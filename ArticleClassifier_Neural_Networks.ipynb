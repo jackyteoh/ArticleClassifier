{
 "cells": [
  {
   "cell_type": "code",
   "execution_count": 1,
   "metadata": {},
   "outputs": [],
   "source": [
    "import numpy as np\n",
    "import os\n",
    "import re\n",
    "os.chdir(\"./Desktop/ArticleClassifier\")"
   ]
  },
  {
   "cell_type": "markdown",
   "metadata": {},
   "source": [
    "# Preprocessing the Data"
   ]
  },
  {
   "cell_type": "code",
   "execution_count": 2,
   "metadata": {},
   "outputs": [],
   "source": [
    "# Run through 70% of the text files from each category (folder)\n",
    "# 70% Training, 30% Testing for each category\n",
    "#Creates training_titles and testing_tiles\n",
    "training_titles_files = []\n",
    "testing_titles_files = [] \n",
    "\n",
    "business_files = os.listdir(\"./business\")\n",
    "train_business = business_files[0:358]\n",
    "test_business = business_files[358:] # length = 152 TOTAL = 510 \n",
    "training_titles_files.append(train_business)\n",
    "testing_titles_files.append(test_business)\n",
    "\n",
    "entertainment_files = os.listdir(\"./entertainment\")\n",
    "train_entertainment = entertainment_files[0:270]\n",
    "test_entertainment = entertainment_files[270:] # 116 TOTAL = 386\n",
    "training_titles_files.append(train_entertainment)\n",
    "testing_titles_files.append(test_entertainment)\n",
    "\n",
    "politics_files = os.listdir(\"./politics\")\n",
    "train_politics = politics_files[0:293]\n",
    "test_politics = politics_files[293:] # 124 # 417\n",
    "training_titles_files.append(train_politics)\n",
    "testing_titles_files.append(test_politics)\n",
    "\n",
    "sport_files = os.listdir(\"./sport\")\n",
    "train_sport = sport_files[0:359]\n",
    "test_sport = sport_files[359:] # 152 # 511\n",
    "training_titles_files.append(train_sport)\n",
    "testing_titles_files.append(test_sport)\n",
    "\n",
    "tech_files = os.listdir(\"./tech\")\n",
    "train_tech = tech_files[0:281]\n",
    "test_tech = tech_files[281:] # 120 #401\n",
    "training_titles_files.append(train_tech)\n",
    "testing_titles_files.append(test_tech)"
   ]
  },
  {
   "cell_type": "code",
   "execution_count": 3,
   "metadata": {},
   "outputs": [],
   "source": [
    "training_text_file = open(\"trainingTextFile.txt\", \"w\")\n",
    "\n",
    "classes = 1\n",
    "for i in training_titles_files:\n",
    "\tfolder_name = \"\"\n",
    "\tif (classes == 1): \n",
    "\t\tfolder_name = \"business\"\n",
    "\telif (classes == 2):\n",
    "\t\tfolder_name = \"entertainment\"\n",
    "\telif (classes == 3):\n",
    "\t\tfolder_name = \"politics\"\n",
    "\telif (classes == 4):\n",
    "\t\tfolder_name = \"sport\"\n",
    "\telif (classes == 5):\n",
    "\t\tfolder_name = \"tech\"\n",
    "\tfor file_name in i:\n",
    "\t\tfile = \"./\" + folder_name + \"/\" + file_name\n",
    "\t\t#print(file)\n",
    "\t\topened = open(file, \"r\")\n",
    "\t\ttraining_text_file.write(opened.readline())\n",
    "\t\topened.close()\n",
    "\tclasses = classes + 1\n",
    "\n",
    "training_text_file.close()\n",
    "\n",
    "masterTestDataFile = open(\"testTextFile.txt\", \"w\")\n",
    "\n",
    "classes = 1\n",
    "for i in testing_titles_files:\n",
    "\tfolder_name = \"\"\n",
    "\tif (classes == 1): \n",
    "\t\tfolder_name = \"business\"\n",
    "\telif (classes == 2):\n",
    "\t\tfolder_name = \"entertainment\"\n",
    "\telif (classes == 3):\n",
    "\t\tfolder_name = \"politics\"\n",
    "\telif (classes == 4):\n",
    "\t\tfolder_name = \"sport\"\n",
    "\telif (classes == 5):\n",
    "\t\tfolder_name = \"tech\"\n",
    "\tfor file_name in i:\n",
    "\t\tfile = \"./\" + folder_name + \"/\" + file_name\n",
    "\t\t#print (file)\n",
    "\t\topened = open(file, \"r\")\n",
    "\t\tlineRead = opened.readline()\n",
    "\t\t#try: \n",
    "\t\tmasterTestDataFile.write(lineRead)\n",
    "\t\t#except UnicodeDecodeError:\n",
    "\t\topened.close()\n",
    "\tclasses = classes + 1\n",
    "\n",
    "masterTestDataFile.close()\n",
    "\n",
    "#currency stemming nlp"
   ]
  },
  {
   "cell_type": "code",
   "execution_count": 4,
   "metadata": {},
   "outputs": [],
   "source": [
    "training = []\n",
    "testing = []\n",
    "\n",
    "# Puts words in dictionary, key = word, value = index\n",
    "trfile = open(\"trainingTextFile.txt\", \"r\")\n",
    "\n",
    "for line in trfile:\n",
    "\tline = line.replace(\"'\", \"\")\n",
    "\tnew_line = line.split()\n",
    "\tfor i in new_line:\n",
    "\t\ttraining.append(i)\n",
    "\n",
    "trfile.close()\n",
    "\n",
    "words = {}\n",
    "count = 0\n",
    "for i in training:\n",
    "\tif i not in words:\n",
    "\t\twords[i] = count\n",
    "\t\tcount = count + 1"
   ]
  },
  {
   "cell_type": "code",
   "execution_count": 5,
   "metadata": {},
   "outputs": [],
   "source": [
    "#Create Training Data Matrix\n",
    "d = len(words) # Number of features (unique words) we have in the dictionary\n",
    "# print(d)\n",
    "train_x = []\n",
    "\n",
    "trfile = open(\"trainingTextFile.txt\", \"r\")\n",
    "\n",
    "for line in trfile:\n",
    "\tline = line.replace(\"'\", \"\")\n",
    "\tword = line.split()\n",
    "\tarr = [0] * d\n",
    "\tfor i in word:\n",
    "\t\tindex = words[i]\n",
    "\t\tarr[index] = arr[index] + 1\n",
    "\ttrain_x.append(arr)\n",
    "trfile.close()"
   ]
  },
  {
   "cell_type": "code",
   "execution_count": 6,
   "metadata": {},
   "outputs": [],
   "source": [
    "#Target Training Vector\n",
    "train_y = np.zeros((1561, 5))\n",
    "for i in range(0, 1561):\n",
    "\tif i >= 358 and i < 628:\n",
    "\t\ttrain_y[i][1] = 1\n",
    "\telif i >= 628 and i < 921:\n",
    "\t\ttrain_y[i][2] = 1\n",
    "\telif i >= 921 and i < 1280:\n",
    "\t\ttrain_y[i][3] = 1\n",
    "\telif i >= 1280 and i < 1561:\n",
    "\t\ttrain_y[i][4] = 1\n",
    "\telse:\n",
    "\t\ttrain_y[i][0] = 1"
   ]
  },
  {
   "cell_type": "code",
   "execution_count": 7,
   "metadata": {},
   "outputs": [],
   "source": [
    "#Create Testing Data Matrix\n",
    "test_x = []\n",
    "\n",
    "testfile = open(\"testTextFile.txt\", \"r\")\n",
    "\n",
    "for line in testfile:\n",
    "\tline = line.replace(\"'\", \"\")\n",
    "\tword = line.split()\n",
    "\tarr = [0] * d\n",
    "\tfor i in word:\n",
    "\t\tif i in words:\n",
    "\t\t\tindex = words[i]\n",
    "\t\t\tarr[index] = arr[index] + 1\n",
    "\ttest_x.append(arr)\n",
    "\n",
    "testfile.close()"
   ]
  },
  {
   "cell_type": "code",
   "execution_count": 8,
   "metadata": {},
   "outputs": [],
   "source": [
    "#Target Test Vector\n",
    "test_y = np.zeros((664, 5))\n",
    "for i in range(152, 664):\n",
    "\tif i >= 152 and i < 268:\n",
    "\t\ttest_y[i][1] = 1\n",
    "\telif i >= 268 and i < 392:\n",
    "\t\ttest_y[i][2] = 1\n",
    "\telif i >= 392 and i < 544:\n",
    "\t\ttest_y[i][3] = 1\n",
    "\telif i >= 544 and i < 664:\n",
    "\t\ttest_y[i][4] = 1\n",
    "\telse:\n",
    "\t\ttest_y[i][0] = 1\n",
    "\n",
    "# countzero = 0\n",
    "# countone = 0\n",
    "# counttwo = 0\n",
    "# countthree = 0\n",
    "# countfour = 0\n",
    "# for i in test_y:\n",
    "# \tif i == 0:\n",
    "# \t\tcountzero+=1\n",
    "# \tif i == 1:\n",
    "# \t\tcountone += 1\n",
    "# \tif i == 2:\n",
    "# \t\tcounttwo+=1 \n",
    "# \tif i == 3:\n",
    "# \t\tcountthree+=1\n",
    "# \tif i == 4:\n",
    "# \t\tcountfour +=1\n",
    "\n",
    "#print(countzero)\n",
    "#print(countone)\n",
    "#print(counttwo)\n",
    "#print(countthree)\n",
    "#print(countfour)\n",
    "\n",
    "\n",
    "# y = 0 --> Business\n",
    "# y = 1 --> Entertainment\n",
    "# y = 2 --> Politics\n",
    "# y = 3 --> Sport\n",
    "# y = 4 --> Tech"
   ]
  },
  {
   "cell_type": "markdown",
   "metadata": {},
   "source": [
    "# Creating LossHistory Class"
   ]
  },
  {
   "cell_type": "code",
   "execution_count": 47,
   "metadata": {},
   "outputs": [],
   "source": [
    "# Got from keras.io\n",
    "import keras\n",
    "class LossHistory(keras.callbacks.Callback):\n",
    "    def on_train_begin(self, logs={}):\n",
    "        self.losses = []\n",
    "        self.train_accuracy = []\n",
    "        self.test_accuracy = []\n",
    "\n",
    "    def on_epoch_end(self, epoch, logs={}):\n",
    "        self.losses.append(logs.get('val_loss'))\n",
    "        self.train_accuracy.append(logs.get('acc'))\n",
    "        self.test_accuracy.append(logs.get('val_acc'))\n",
    "\n",
    "history = LossHistory()"
   ]
  },
  {
   "cell_type": "markdown",
   "metadata": {},
   "source": [
    "# Neural Networks with varying number of hidden layers\n"
   ]
  },
  {
   "cell_type": "code",
   "execution_count": 10,
   "metadata": {},
   "outputs": [],
   "source": [
    "from keras.models import Sequential\n",
    "from keras.layers import Dense\n",
    "from keras import optimizers"
   ]
  },
  {
   "cell_type": "code",
   "execution_count": 26,
   "metadata": {},
   "outputs": [
    {
     "name": "stdout",
     "output_type": "stream",
     "text": [
      "_________________________________________________________________\n",
      "Layer (type)                 Output Shape              Param #   \n",
      "=================================================================\n",
      "dense_1 (Dense)              (None, 3454)              11933570  \n",
      "_________________________________________________________________\n",
      "dense_2 (Dense)              (None, 500)               1727500   \n",
      "_________________________________________________________________\n",
      "dense_3 (Dense)              (None, 500)               250500    \n",
      "_________________________________________________________________\n",
      "dense_4 (Dense)              (None, 5)                 2505      \n",
      "=================================================================\n",
      "Total params: 13,914,075\n",
      "Trainable params: 13,914,075\n",
      "Non-trainable params: 0\n",
      "_________________________________________________________________\n",
      "Train on 1561 samples, validate on 664 samples\n",
      "Epoch 1/10\n",
      "1561/1561 [==============================] - 2s 1ms/step - loss: 1.4936 - acc: 0.4523 - val_loss: 0.6996 - val_acc: 0.7154\n",
      "Epoch 2/10\n",
      "1561/1561 [==============================] - 2s 1ms/step - loss: 0.2516 - acc: 0.9315 - val_loss: 1.0548 - val_acc: 0.7410\n",
      "Epoch 3/10\n",
      "1561/1561 [==============================] - 2s 1ms/step - loss: 0.1350 - acc: 0.9821 - val_loss: 1.6012 - val_acc: 0.7470\n",
      "Epoch 4/10\n",
      "1561/1561 [==============================] - 2s 1ms/step - loss: 0.0458 - acc: 0.9923 - val_loss: 1.6356 - val_acc: 0.7500\n",
      "Epoch 5/10\n",
      "1561/1561 [==============================] - 2s 1ms/step - loss: 0.1208 - acc: 0.9878 - val_loss: 2.0104 - val_acc: 0.7259\n",
      "Epoch 6/10\n",
      "1561/1561 [==============================] - 2s 1ms/step - loss: 0.1765 - acc: 0.9840 - val_loss: 2.2529 - val_acc: 0.7063\n",
      "Epoch 7/10\n",
      "1561/1561 [==============================] - 2s 1ms/step - loss: 0.1142 - acc: 0.9891 - val_loss: 3.0980 - val_acc: 0.6867\n",
      "Epoch 8/10\n",
      "1561/1561 [==============================] - 2s 1ms/step - loss: 0.3456 - acc: 0.9725 - val_loss: 2.9938 - val_acc: 0.7154\n",
      "Epoch 9/10\n",
      "1561/1561 [==============================] - 2s 1ms/step - loss: 0.2169 - acc: 0.9846 - val_loss: 2.6447 - val_acc: 0.6958\n",
      "Epoch 10/10\n",
      "1561/1561 [==============================] - 2s 1ms/step - loss: 0.3805 - acc: 0.9731 - val_loss: 3.1484 - val_acc: 0.6883\n"
     ]
    },
    {
     "data": {
      "text/plain": [
       "<keras.callbacks.History at 0xb63db49b0>"
      ]
     },
     "execution_count": 26,
     "metadata": {},
     "output_type": "execute_result"
    }
   ],
   "source": [
    "# epoch how many big loops\n",
    "# batch = how many times each loop\n",
    "\n",
    "keras.backend.clear_session()\n",
    "\n",
    "train_y = np.array(train_y)\n",
    "train_x = np.array(train_x)\n",
    "test_x = np.array(test_x)\n",
    "test_y = np.array(test_y)\n",
    "\n",
    "# First model (smallest hidden layers (2))\n",
    "model_one = Sequential()\n",
    "\n",
    "model_one.add(Dense(units = d, input_shape = train_x[0].shape))\n",
    "\n",
    "model_one.add(Dense(units = 500, activation = 'relu'))\n",
    "model_one.add(Dense(units = 500, activation = 'relu'))\n",
    "\n",
    "model_one.add(Dense(units = 5, activation = 'softmax'))\n",
    "\n",
    "model_one.summary()\n",
    "\n",
    "opt = optimizers.Adam(lr=0.01)\n",
    "model_one.compile(optimizer=opt,\n",
    "              loss='categorical_crossentropy',\n",
    "              metrics=['accuracy'])\n",
    "\n",
    "\n",
    "model_one.fit(train_x, train_y, batch_size = 200, epochs = 10, validation_data = (test_x, test_y), callbacks = [history])"
   ]
  },
  {
   "cell_type": "code",
   "execution_count": 27,
   "metadata": {},
   "outputs": [
    {
     "data": {
      "text/plain": [
       "Text(0, 0.5, 'Accuracy')"
      ]
     },
     "execution_count": 27,
     "metadata": {},
     "output_type": "execute_result"
    },
    {
     "data": {
      "image/png": "[encoded data removed]",
      "text/plain": [
       "<Figure size 432x288 with 1 Axes>"
      ]
     },
     "metadata": {
      "needs_background": "light"
     },
     "output_type": "display_data"
    }
   ],
   "source": [
    "import matplotlib.pyplot as plt\n",
    "\n",
    "x_range = np.arange(1, 11, 1)\n",
    "plt.plot(x_range, history.train_accuracy)\n",
    "plt.plot(x_range, history.test_accuracy)\n",
    "plt.title('Model 1 (2 Hidden Layers)')\n",
    "plt.legend((\"Training\", \"Testing\"), loc=\"lower right\")\n",
    "plt.xlabel('Epoch')\n",
    "plt.ylabel('Accuracy')"
   ]
  },
  {
   "cell_type": "code",
   "execution_count": 15,
   "metadata": {},
   "outputs": [
    {
     "name": "stdout",
     "output_type": "stream",
     "text": [
      "_________________________________________________________________\n",
      "Layer (type)                 Output Shape              Param #   \n",
      "=================================================================\n",
      "dense_5 (Dense)              (None, 3454)              11933570  \n",
      "_________________________________________________________________\n",
      "dense_6 (Dense)              (None, 500)               1727500   \n",
      "_________________________________________________________________\n",
      "dense_7 (Dense)              (None, 500)               250500    \n",
      "_________________________________________________________________\n",
      "dense_8 (Dense)              (None, 500)               250500    \n",
      "_________________________________________________________________\n",
      "dense_9 (Dense)              (None, 500)               250500    \n",
      "_________________________________________________________________\n",
      "dense_10 (Dense)             (None, 5)                 2505      \n",
      "=================================================================\n",
      "Total params: 14,415,075\n",
      "Trainable params: 14,415,075\n",
      "Non-trainable params: 0\n",
      "_________________________________________________________________\n",
      "Train on 1561 samples, validate on 664 samples\n",
      "Epoch 1/10\n",
      "1561/1561 [==============================] - 3s 2ms/step - loss: 2.2758 - acc: 0.2844 - val_loss: 1.2856 - val_acc: 0.3946\n",
      "Epoch 2/10\n",
      "1561/1561 [==============================] - 2s 1ms/step - loss: 1.1298 - acc: 0.5509 - val_loss: 0.9132 - val_acc: 0.5346\n",
      "Epoch 3/10\n",
      "1561/1561 [==============================] - 2s 1ms/step - loss: 0.5523 - acc: 0.7803 - val_loss: 1.2211 - val_acc: 0.6265\n",
      "Epoch 4/10\n",
      "1561/1561 [==============================] - 2s 1ms/step - loss: 0.2918 - acc: 0.9154 - val_loss: 0.9566 - val_acc: 0.7048\n",
      "Epoch 5/10\n",
      "1561/1561 [==============================] - 2s 1ms/step - loss: 0.1111 - acc: 0.9737 - val_loss: 1.0911 - val_acc: 0.6837\n",
      "Epoch 6/10\n",
      "1561/1561 [==============================] - 2s 1ms/step - loss: 0.0425 - acc: 0.9878 - val_loss: 1.1855 - val_acc: 0.7349\n",
      "Epoch 7/10\n",
      "1561/1561 [==============================] - 2s 1ms/step - loss: 0.0397 - acc: 0.9942 - val_loss: 1.4412 - val_acc: 0.7139\n",
      "Epoch 8/10\n",
      "1561/1561 [==============================] - 2s 1ms/step - loss: 0.0350 - acc: 0.9968 - val_loss: 1.4747 - val_acc: 0.7229\n",
      "Epoch 9/10\n",
      "1561/1561 [==============================] - 2s 1ms/step - loss: 0.0272 - acc: 0.9955 - val_loss: 1.4155 - val_acc: 0.7485\n",
      "Epoch 10/10\n",
      "1561/1561 [==============================] - 2s 1ms/step - loss: 0.0271 - acc: 0.9974 - val_loss: 1.7152 - val_acc: 0.7108\n"
     ]
    },
    {
     "data": {
      "text/plain": [
       "<keras.callbacks.History at 0xb4249af98>"
      ]
     },
     "execution_count": 15,
     "metadata": {},
     "output_type": "execute_result"
    }
   ],
   "source": [
    "# Second model (Medium hidden layers (4))\n",
    "model_two = Sequential()\n",
    "\n",
    "model_two.add(Dense(units = d, input_shape = train_x[0].shape))\n",
    "\n",
    "model_two.add(Dense(units = 500, activation = 'relu'))\n",
    "model_two.add(Dense(units = 500, activation = 'relu'))\n",
    "model_two.add(Dense(units = 500, activation = 'relu'))\n",
    "model_two.add(Dense(units = 500, activation = 'relu'))\n",
    "\n",
    "model_two.add(Dense(units = 5, activation = 'softmax'))\n",
    "\n",
    "opt = optimizers.Adam(lr=0.01)\n",
    "model_two.compile(optimizer=opt,\n",
    "              loss='categorical_crossentropy',\n",
    "              metrics=['accuracy'])\n",
    "\n",
    "model_two.summary()\n",
    "\n",
    "model_two.fit(train_x, train_y, batch_size = 200, epochs = 10, validation_data = (test_x, test_y), callbacks = [history])"
   ]
  },
  {
   "cell_type": "code",
   "execution_count": 16,
   "metadata": {},
   "outputs": [
    {
     "data": {
      "text/plain": [
       "Text(0, 0.5, 'Accuracy')"
      ]
     },
     "execution_count": 16,
     "metadata": {},
     "output_type": "execute_result"
    },
    {
     "data": {
      "image/png": "[encoded data removed]",
      "text/plain": [
       "<Figure size 432x288 with 1 Axes>"
      ]
     },
     "metadata": {
      "needs_background": "light"
     },
     "output_type": "display_data"
    }
   ],
   "source": [
    "x_range = np.arange(1, 11, 1)\n",
    "plt.plot(x_range, history.train_accuracy)\n",
    "plt.plot(x_range, history.test_accuracy)\n",
    "plt.title('Model 2 (4 Hidden Layers)')\n",
    "plt.legend((\"Training\", \"Testing\"), loc=\"lower right\")\n",
    "plt.xlabel('Epoch')\n",
    "plt.ylabel('Accuracy')"
   ]
  },
  {
   "cell_type": "code",
   "execution_count": 31,
   "metadata": {},
   "outputs": [
    {
     "name": "stdout",
     "output_type": "stream",
     "text": [
      "_________________________________________________________________\n",
      "Layer (type)                 Output Shape              Param #   \n",
      "=================================================================\n",
      "dense_13 (Dense)             (None, 3454)              11933570  \n",
      "_________________________________________________________________\n",
      "dense_14 (Dense)             (None, 500)               1727500   \n",
      "_________________________________________________________________\n",
      "dense_15 (Dense)             (None, 500)               250500    \n",
      "_________________________________________________________________\n",
      "dense_16 (Dense)             (None, 500)               250500    \n",
      "_________________________________________________________________\n",
      "dense_17 (Dense)             (None, 500)               250500    \n",
      "_________________________________________________________________\n",
      "dense_18 (Dense)             (None, 500)               250500    \n",
      "_________________________________________________________________\n",
      "dense_19 (Dense)             (None, 500)               250500    \n",
      "_________________________________________________________________\n",
      "dense_20 (Dense)             (None, 5)                 2505      \n",
      "=================================================================\n",
      "Total params: 14,916,075\n",
      "Trainable params: 14,916,075\n",
      "Non-trainable params: 0\n",
      "_________________________________________________________________\n",
      "Train on 1561 samples, validate on 664 samples\n",
      "Epoch 1/10\n",
      "1561/1561 [==============================] - 3s 2ms/step - loss: 2.7684 - acc: 0.2108 - val_loss: 1.2201 - val_acc: 0.3419\n",
      "Epoch 2/10\n",
      "1561/1561 [==============================] - 2s 1ms/step - loss: 1.9624 - acc: 0.3773 - val_loss: 1.2099 - val_acc: 0.2334\n",
      "Epoch 3/10\n",
      "1561/1561 [==============================] - 2s 1ms/step - loss: 1.3860 - acc: 0.3959 - val_loss: 1.0689 - val_acc: 0.4488\n",
      "Epoch 4/10\n",
      "1561/1561 [==============================] - 2s 1ms/step - loss: 1.3762 - acc: 0.5637 - val_loss: 1.4395 - val_acc: 0.4880\n",
      "Epoch 5/10\n",
      "1561/1561 [==============================] - 2s 1ms/step - loss: 0.9327 - acc: 0.6355 - val_loss: 0.9194 - val_acc: 0.5377\n",
      "Epoch 6/10\n",
      "1561/1561 [==============================] - 2s 1ms/step - loss: 0.7042 - acc: 0.7226 - val_loss: 0.9897 - val_acc: 0.5482\n",
      "Epoch 7/10\n",
      "1561/1561 [==============================] - 2s 1ms/step - loss: 0.4508 - acc: 0.8219 - val_loss: 0.9955 - val_acc: 0.6084\n",
      "Epoch 8/10\n",
      "1561/1561 [==============================] - 2s 1ms/step - loss: 0.2959 - acc: 0.8764 - val_loss: 0.9432 - val_acc: 0.6370\n",
      "Epoch 9/10\n",
      "1561/1561 [==============================] - 2s 1ms/step - loss: 0.2406 - acc: 0.9193 - val_loss: 0.9890 - val_acc: 0.6732\n",
      "Epoch 10/10\n",
      "1561/1561 [==============================] - 2s 1ms/step - loss: 0.1896 - acc: 0.9385 - val_loss: 1.0509 - val_acc: 0.6762\n"
     ]
    },
    {
     "data": {
      "text/plain": [
       "<keras.callbacks.History at 0xb63ce3e48>"
      ]
     },
     "execution_count": 31,
     "metadata": {},
     "output_type": "execute_result"
    }
   ],
   "source": [
    "# Third model (Large hidden layers (6))\n",
    "model_three = Sequential()\n",
    "\n",
    "model_three.add(Dense(units = d, input_shape = train_x[0].shape))\n",
    "\n",
    "model_three.add(Dense(units = 500, activation = 'relu'))\n",
    "model_three.add(Dense(units = 500, activation = 'relu'))\n",
    "model_three.add(Dense(units = 500, activation = 'relu'))\n",
    "model_three.add(Dense(units = 500, activation = 'relu'))\n",
    "model_three.add(Dense(units = 500, activation = 'relu'))\n",
    "model_three.add(Dense(units = 500, activation = 'relu'))\n",
    "\n",
    "model_three.add(Dense(units = 5, activation = 'softmax'))\n",
    "\n",
    "model_three.summary()\n",
    "\n",
    "opt = optimizers.Adam(lr=0.01)\n",
    "model_three.compile(optimizer=opt,\n",
    "              loss='categorical_crossentropy',\n",
    "              metrics=['accuracy'])\n",
    "\n",
    "\n",
    "model_three.fit(train_x, train_y, batch_size = 200, epochs = 10, validation_data = (test_x, test_y), callbacks = [history])\n",
    "\n",
    "#We think this has lower accuracy bc of overfitting"
   ]
  },
  {
   "cell_type": "code",
   "execution_count": 32,
   "metadata": {},
   "outputs": [
    {
     "data": {
      "text/plain": [
       "Text(0, 0.5, 'Accuracy')"
      ]
     },
     "execution_count": 32,
     "metadata": {},
     "output_type": "execute_result"
    },
    {
     "data": {
      "image/png": "[encoded data removed]",
      "text/plain": [
       "<Figure size 432x288 with 1 Axes>"
      ]
     },
     "metadata": {
      "needs_background": "light"
     },
     "output_type": "display_data"
    }
   ],
   "source": [
    "x_range = np.arange(1, 11, 1)\n",
    "plt.plot(x_range, history.train_accuracy)\n",
    "plt.plot(x_range, history.test_accuracy)\n",
    "plt.title('Model 3 (6 Hidden Layers)')\n",
    "plt.legend((\"Training\", \"Testing\"), loc=\"lower right\")\n",
    "plt.xlabel('Epoch')\n",
    "plt.ylabel('Accuracy')"
   ]
  },
  {
   "cell_type": "markdown",
   "metadata": {},
   "source": [
    "# Neural Networks (Second Model) with varying activation functions"
   ]
  },
  {
   "cell_type": "code",
   "execution_count": 35,
   "metadata": {},
   "outputs": [
    {
     "name": "stdout",
     "output_type": "stream",
     "text": [
      "_________________________________________________________________\n",
      "Layer (type)                 Output Shape              Param #   \n",
      "=================================================================\n",
      "dense_21 (Dense)             (None, 3454)              11933570  \n",
      "_________________________________________________________________\n",
      "dense_22 (Dense)             (None, 500)               1727500   \n",
      "_________________________________________________________________\n",
      "dense_23 (Dense)             (None, 500)               250500    \n",
      "_________________________________________________________________\n",
      "dense_24 (Dense)             (None, 500)               250500    \n",
      "_________________________________________________________________\n",
      "dense_25 (Dense)             (None, 500)               250500    \n",
      "_________________________________________________________________\n",
      "dense_26 (Dense)             (None, 5)                 2505      \n",
      "=================================================================\n",
      "Total params: 14,415,075\n",
      "Trainable params: 14,415,075\n",
      "Non-trainable params: 0\n",
      "_________________________________________________________________\n",
      "Train on 1561 samples, validate on 664 samples\n",
      "Epoch 1/10\n",
      "1561/1561 [==============================] - 3s 2ms/step - loss: 5.4394 - acc: 0.2101 - val_loss: 4.1805 - val_acc: 0.1807\n",
      "Epoch 2/10\n",
      "1561/1561 [==============================] - 2s 1ms/step - loss: 4.6903 - acc: 0.1890 - val_loss: 4.1180 - val_acc: 0.2289\n",
      "Epoch 3/10\n",
      "1561/1561 [==============================] - 2s 1ms/step - loss: 4.3141 - acc: 0.2082 - val_loss: 4.0232 - val_acc: 0.2289\n",
      "Epoch 4/10\n",
      "1561/1561 [==============================] - 2s 1ms/step - loss: 4.2042 - acc: 0.2204 - val_loss: 3.8754 - val_acc: 0.2289\n",
      "Epoch 5/10\n",
      "1561/1561 [==============================] - 2s 1ms/step - loss: 4.1734 - acc: 0.2313 - val_loss: 3.8194 - val_acc: 0.2289\n",
      "Epoch 6/10\n",
      "1561/1561 [==============================] - 2s 1ms/step - loss: 4.1693 - acc: 0.2037 - val_loss: 3.8812 - val_acc: 0.2289\n",
      "Epoch 7/10\n",
      "1561/1561 [==============================] - 2s 1ms/step - loss: 4.1721 - acc: 0.2274 - val_loss: 3.8313 - val_acc: 0.1747\n",
      "Epoch 8/10\n",
      "1561/1561 [==============================] - 2s 1ms/step - loss: 4.1572 - acc: 0.2345 - val_loss: 3.8474 - val_acc: 0.2289\n",
      "Epoch 9/10\n",
      "1561/1561 [==============================] - 2s 1ms/step - loss: 4.1639 - acc: 0.2140 - val_loss: 3.8459 - val_acc: 0.2289\n",
      "Epoch 10/10\n",
      "1561/1561 [==============================] - 2s 1ms/step - loss: 4.1521 - acc: 0.2300 - val_loss: 3.8764 - val_acc: 0.2289\n"
     ]
    },
    {
     "data": {
      "text/plain": [
       "<keras.callbacks.History at 0xba01f05f8>"
      ]
     },
     "execution_count": 35,
     "metadata": {},
     "output_type": "execute_result"
    }
   ],
   "source": [
    "# Second model (Medium hidden layers (4)) with Sigmoid activation\n",
    "model_two = Sequential()\n",
    "\n",
    "model_two.add(Dense(units = d, input_shape = train_x[0].shape))\n",
    "\n",
    "model_two.add(Dense(units = 500, activation = 'sigmoid'))\n",
    "model_two.add(Dense(units = 500, activation = 'sigmoid'))\n",
    "model_two.add(Dense(units = 500, activation = 'sigmoid'))\n",
    "model_two.add(Dense(units = 500, activation = 'sigmoid'))\n",
    "\n",
    "model_two.add(Dense(units = 5, activation = 'softmax'))\n",
    "\n",
    "opt = optimizers.Adam(lr=0.01)\n",
    "model_two.compile(optimizer=opt,\n",
    "              loss='categorical_crossentropy',\n",
    "              metrics=['accuracy'])\n",
    "\n",
    "model_two.summary()\n",
    "\n",
    "model_two.fit(train_x, train_y, batch_size = 200, epochs = 10, validation_data = (test_x, test_y), callbacks = [history])"
   ]
  },
  {
   "cell_type": "code",
   "execution_count": 36,
   "metadata": {},
   "outputs": [
    {
     "data": {
      "text/plain": [
       "Text(0, 0.5, 'Accuracy')"
      ]
     },
     "execution_count": 36,
     "metadata": {},
     "output_type": "execute_result"
    },
    {
     "data": {
      "image/png": "[encoded data removed]",
      "text/plain": [
       "<Figure size 432x288 with 1 Axes>"
      ]
     },
     "metadata": {
      "needs_background": "light"
     },
     "output_type": "display_data"
    }
   ],
   "source": [
    "x_range = np.arange(1, 11, 1)\n",
    "plt.plot(x_range, history.train_accuracy)\n",
    "plt.plot(x_range, history.test_accuracy)\n",
    "plt.title('Model 2 (Sigmoid Activation)')\n",
    "plt.legend((\"Training\", \"Testing\"), loc=\"lower right\")\n",
    "plt.xlabel('Epoch')\n",
    "plt.ylabel('Accuracy')"
   ]
  },
  {
   "cell_type": "code",
   "execution_count": 38,
   "metadata": {},
   "outputs": [
    {
     "name": "stdout",
     "output_type": "stream",
     "text": [
      "_________________________________________________________________\n",
      "Layer (type)                 Output Shape              Param #   \n",
      "=================================================================\n",
      "dense_27 (Dense)             (None, 3454)              11933570  \n",
      "_________________________________________________________________\n",
      "dense_28 (Dense)             (None, 500)               1727500   \n",
      "_________________________________________________________________\n",
      "dense_29 (Dense)             (None, 500)               250500    \n",
      "_________________________________________________________________\n",
      "dense_30 (Dense)             (None, 500)               250500    \n",
      "_________________________________________________________________\n",
      "dense_31 (Dense)             (None, 500)               250500    \n",
      "_________________________________________________________________\n",
      "dense_32 (Dense)             (None, 5)                 2505      \n",
      "=================================================================\n",
      "Total params: 14,415,075\n",
      "Trainable params: 14,415,075\n",
      "Non-trainable params: 0\n",
      "_________________________________________________________________\n",
      "Train on 1561 samples, validate on 664 samples\n",
      "Epoch 1/10\n",
      "1561/1561 [==============================] - 3s 2ms/step - loss: 5.0080 - acc: 0.3600 - val_loss: 2.8421 - val_acc: 0.4352\n",
      "Epoch 2/10\n",
      "1561/1561 [==============================] - 2s 1ms/step - loss: 1.7090 - acc: 0.5477 - val_loss: 1.2874 - val_acc: 0.4488\n",
      "Epoch 3/10\n",
      "1561/1561 [==============================] - 2s 1ms/step - loss: 0.8953 - acc: 0.6893 - val_loss: 1.2185 - val_acc: 0.5633\n",
      "Epoch 4/10\n",
      "1561/1561 [==============================] - 2s 1ms/step - loss: 0.5996 - acc: 0.8014 - val_loss: 1.2224 - val_acc: 0.5889\n",
      "Epoch 5/10\n",
      "1561/1561 [==============================] - 2s 1ms/step - loss: 0.3969 - acc: 0.8892 - val_loss: 1.1449 - val_acc: 0.6536\n",
      "Epoch 6/10\n",
      "1561/1561 [==============================] - 2s 1ms/step - loss: 0.2570 - acc: 0.9321 - val_loss: 1.1823 - val_acc: 0.6657\n",
      "Epoch 7/10\n",
      "1561/1561 [==============================] - 2s 1ms/step - loss: 0.1744 - acc: 0.9481 - val_loss: 1.1422 - val_acc: 0.6506\n",
      "Epoch 8/10\n",
      "1561/1561 [==============================] - 2s 1ms/step - loss: 0.1229 - acc: 0.9718 - val_loss: 1.2123 - val_acc: 0.6521\n",
      "Epoch 9/10\n",
      "1561/1561 [==============================] - 2s 1ms/step - loss: 0.0870 - acc: 0.9782 - val_loss: 1.2317 - val_acc: 0.6581\n",
      "Epoch 10/10\n",
      "1561/1561 [==============================] - 2s 1ms/step - loss: 0.0717 - acc: 0.9827 - val_loss: 1.3223 - val_acc: 0.6762\n"
     ]
    },
    {
     "data": {
      "text/plain": [
       "<keras.callbacks.History at 0xbcdd3db70>"
      ]
     },
     "execution_count": 38,
     "metadata": {},
     "output_type": "execute_result"
    }
   ],
   "source": [
    "# Second model (Medium hidden layers (4))\n",
    "model_two = Sequential()\n",
    "\n",
    "model_two.add(Dense(units = d, input_shape = train_x[0].shape))\n",
    "\n",
    "model_two.add(Dense(units = 500, activation = 'tanh'))\n",
    "model_two.add(Dense(units = 500, activation = 'tanh'))\n",
    "model_two.add(Dense(units = 500, activation = 'tanh'))\n",
    "model_two.add(Dense(units = 500, activation = 'tanh'))\n",
    "\n",
    "model_two.add(Dense(units = 5, activation = 'softmax'))\n",
    "\n",
    "opt = optimizers.Adam(lr=0.01)\n",
    "model_two.compile(optimizer=opt,\n",
    "              loss='categorical_crossentropy',\n",
    "              metrics=['accuracy'])\n",
    "\n",
    "model_two.summary()\n",
    "\n",
    "model_two.fit(train_x, train_y, batch_size = 200, epochs = 10, validation_data = (test_x, test_y), callbacks = [history])"
   ]
  },
  {
   "cell_type": "code",
   "execution_count": 39,
   "metadata": {},
   "outputs": [
    {
     "data": {
      "text/plain": [
       "Text(0, 0.5, 'Accuracy')"
      ]
     },
     "execution_count": 39,
     "metadata": {},
     "output_type": "execute_result"
    },
    {
     "data": {
      "image/png": "[encoded data removed]",
      "text/plain": [
       "<Figure size 432x288 with 1 Axes>"
      ]
     },
     "metadata": {
      "needs_background": "light"
     },
     "output_type": "display_data"
    }
   ],
   "source": [
    "x_range = np.arange(1, 11, 1)\n",
    "plt.plot(x_range, history.train_accuracy)\n",
    "plt.plot(x_range, history.test_accuracy)\n",
    "plt.title('Model  (Tanh activation)')\n",
    "plt.legend((\"Training\", \"Testing\"), loc=\"lower right\")\n",
    "plt.xlabel('Epoch')\n",
    "plt.ylabel('Accuracy')"
   ]
  },
  {
   "cell_type": "markdown",
   "metadata": {},
   "source": [
    "# Neural Networks (Second Model) with varying number of hidden nodes"
   ]
  },
  {
   "cell_type": "code",
   "execution_count": 41,
   "metadata": {},
   "outputs": [
    {
     "name": "stdout",
     "output_type": "stream",
     "text": [
      "_________________________________________________________________\n",
      "Layer (type)                 Output Shape              Param #   \n",
      "=================================================================\n",
      "dense_33 (Dense)             (None, 3454)              11933570  \n",
      "_________________________________________________________________\n",
      "dense_34 (Dense)             (None, 1000)              3455000   \n",
      "_________________________________________________________________\n",
      "dense_35 (Dense)             (None, 500)               500500    \n",
      "_________________________________________________________________\n",
      "dense_36 (Dense)             (None, 250)               125250    \n",
      "_________________________________________________________________\n",
      "dense_37 (Dense)             (None, 125)               31375     \n",
      "_________________________________________________________________\n",
      "dense_38 (Dense)             (None, 5)                 630       \n",
      "=================================================================\n",
      "Total params: 16,046,325\n",
      "Trainable params: 16,046,325\n",
      "Non-trainable params: 0\n",
      "_________________________________________________________________\n",
      "Train on 1561 samples, validate on 664 samples\n",
      "Epoch 1/10\n",
      "1561/1561 [==============================] - 3s 2ms/step - loss: 1.5709 - acc: 0.3901 - val_loss: 1.0720 - val_acc: 0.6160\n",
      "Epoch 2/10\n",
      "1561/1561 [==============================] - 2s 1ms/step - loss: 0.3873 - acc: 0.8847 - val_loss: 0.8847 - val_acc: 0.7123\n",
      "Epoch 3/10\n",
      "1561/1561 [==============================] - 2s 1ms/step - loss: 0.1567 - acc: 0.9616 - val_loss: 0.9242 - val_acc: 0.7063\n",
      "Epoch 4/10\n",
      "1561/1561 [==============================] - 2s 1ms/step - loss: 0.0984 - acc: 0.9776 - val_loss: 1.2812 - val_acc: 0.7244\n",
      "Epoch 5/10\n",
      "1561/1561 [==============================] - 2s 1ms/step - loss: 0.0609 - acc: 0.9923 - val_loss: 1.4074 - val_acc: 0.7244\n",
      "Epoch 6/10\n",
      "1561/1561 [==============================] - 2s 1ms/step - loss: 0.1067 - acc: 0.9898 - val_loss: 2.1938 - val_acc: 0.7093\n",
      "Epoch 7/10\n",
      "1561/1561 [==============================] - 2s 1ms/step - loss: 0.0972 - acc: 0.9910 - val_loss: 1.7345 - val_acc: 0.7304\n",
      "Epoch 8/10\n",
      "1561/1561 [==============================] - 2s 1ms/step - loss: 0.1115 - acc: 0.9891 - val_loss: 3.0088 - val_acc: 0.6762\n",
      "Epoch 9/10\n",
      "1561/1561 [==============================] - 2s 1ms/step - loss: 0.6104 - acc: 0.9449 - val_loss: 3.1491 - val_acc: 0.6521\n",
      "Epoch 10/10\n",
      "1561/1561 [==============================] - 2s 1ms/step - loss: 0.3631 - acc: 0.9705 - val_loss: 3.1675 - val_acc: 0.6657\n"
     ]
    },
    {
     "data": {
      "text/plain": [
       "<keras.callbacks.History at 0xbd9ebae10>"
      ]
     },
     "execution_count": 41,
     "metadata": {},
     "output_type": "execute_result"
    }
   ],
   "source": [
    "# Second model (Medium hidden layers (4))\n",
    "model_two = Sequential()\n",
    "\n",
    "model_two.add(Dense(units = d, input_shape = train_x[0].shape))\n",
    "\n",
    "model_two.add(Dense(units = 1000, activation = 'relu'))\n",
    "model_two.add(Dense(units = 500, activation = 'relu'))\n",
    "model_two.add(Dense(units = 250, activation = 'relu'))\n",
    "model_two.add(Dense(units = 125, activation = 'relu'))\n",
    "\n",
    "model_two.add(Dense(units = 5, activation = 'softmax'))\n",
    "\n",
    "opt = optimizers.Adam(lr=0.01)\n",
    "model_two.compile(optimizer=opt,\n",
    "              loss='categorical_crossentropy',\n",
    "              metrics=['accuracy'])\n",
    "\n",
    "model_two.summary()\n",
    "\n",
    "model_two.fit(train_x, train_y, batch_size = 200, epochs = 10, validation_data = (test_x, test_y), callbacks = [history])"
   ]
  },
  {
   "cell_type": "code",
   "execution_count": 43,
   "metadata": {},
   "outputs": [
    {
     "data": {
      "text/plain": [
       "Text(0, 0.5, 'Accuracy')"
      ]
     },
     "execution_count": 43,
     "metadata": {},
     "output_type": "execute_result"
    },
    {
     "data": {
      "image/png": "[encoded data removed]",
      "text/plain": [
       "<Figure size 432x288 with 1 Axes>"
      ]
     },
     "metadata": {
      "needs_background": "light"
     },
     "output_type": "display_data"
    }
   ],
   "source": [
    "x_range = np.arange(1, 11, 1)\n",
    "plt.plot(x_range, history.train_accuracy)\n",
    "plt.plot(x_range, history.test_accuracy)\n",
    "plt.title('Model 2 (4 Hidden Layers, 1000, 500, 250, 125 nodes)')\n",
    "plt.legend((\"Training\", \"Testing\"), loc=\"lower right\")\n",
    "plt.xlabel('Epoch')\n",
    "plt.ylabel('Accuracy')"
   ]
  },
  {
   "cell_type": "code",
   "execution_count": 48,
   "metadata": {},
   "outputs": [
    {
     "name": "stdout",
     "output_type": "stream",
     "text": [
      "_________________________________________________________________\n",
      "Layer (type)                 Output Shape              Param #   \n",
      "=================================================================\n",
      "dense_45 (Dense)             (None, 3454)              11933570  \n",
      "_________________________________________________________________\n",
      "dense_46 (Dense)             (None, 2000)              6910000   \n",
      "_________________________________________________________________\n",
      "dense_47 (Dense)             (None, 1000)              2001000   \n",
      "_________________________________________________________________\n",
      "dense_48 (Dense)             (None, 500)               500500    \n",
      "_________________________________________________________________\n",
      "dense_49 (Dense)             (None, 250)               125250    \n",
      "_________________________________________________________________\n",
      "dense_50 (Dense)             (None, 5)                 1255      \n",
      "=================================================================\n",
      "Total params: 21,471,575\n",
      "Trainable params: 21,471,575\n",
      "Non-trainable params: 0\n",
      "_________________________________________________________________\n",
      "Train on 1561 samples, validate on 664 samples\n",
      "Epoch 1/10\n",
      "1561/1561 [==============================] - 4s 3ms/step - loss: 2.6420 - acc: 0.2268 - val_loss: 1.4854 - val_acc: 0.3117\n",
      "Epoch 2/10\n",
      "1561/1561 [==============================] - 3s 2ms/step - loss: 1.7061 - acc: 0.4625 - val_loss: 1.0576 - val_acc: 0.5557\n",
      "Epoch 3/10\n",
      "1561/1561 [==============================] - 3s 2ms/step - loss: 0.8959 - acc: 0.7406 - val_loss: 0.8231 - val_acc: 0.6596\n",
      "Epoch 4/10\n",
      "1561/1561 [==============================] - 3s 2ms/step - loss: 0.4908 - acc: 0.8937 - val_loss: 1.2326 - val_acc: 0.5964\n",
      "Epoch 5/10\n",
      "1561/1561 [==============================] - 3s 2ms/step - loss: 0.3417 - acc: 0.9423 - val_loss: 1.0670 - val_acc: 0.7003\n",
      "Epoch 6/10\n",
      "1561/1561 [==============================] - 3s 2ms/step - loss: 0.2663 - acc: 0.9737 - val_loss: 1.4433 - val_acc: 0.7063\n",
      "Epoch 7/10\n",
      "1561/1561 [==============================] - 3s 2ms/step - loss: 0.4380 - acc: 0.9680 - val_loss: 1.4200 - val_acc: 0.7048\n",
      "Epoch 8/10\n",
      "1561/1561 [==============================] - 3s 2ms/step - loss: 0.4112 - acc: 0.9718 - val_loss: 2.4223 - val_acc: 0.6657\n",
      "Epoch 9/10\n",
      "1561/1561 [==============================] - 3s 2ms/step - loss: 0.3114 - acc: 0.9718 - val_loss: 1.4614 - val_acc: 0.6958\n",
      "Epoch 10/10\n",
      "1561/1561 [==============================] - 3s 2ms/step - loss: 0.2723 - acc: 0.9763 - val_loss: 1.6589 - val_acc: 0.7003\n"
     ]
    },
    {
     "data": {
      "text/plain": [
       "<keras.callbacks.History at 0xc025b5d68>"
      ]
     },
     "execution_count": 48,
     "metadata": {},
     "output_type": "execute_result"
    }
   ],
   "source": [
    "# Second model (Medium hidden layers (4))\n",
    "model_two = Sequential()\n",
    "\n",
    "model_two.add(Dense(units = d, input_shape = train_x[0].shape))\n",
    "\n",
    "model_two.add(Dense(units = 2000, activation = 'relu'))\n",
    "model_two.add(Dense(units = 1000, activation = 'relu'))\n",
    "model_two.add(Dense(units = 500, activation = 'relu'))\n",
    "model_two.add(Dense(units = 250, activation = 'relu'))\n",
    "\n",
    "model_two.add(Dense(units = 5, activation = 'softmax'))\n",
    "\n",
    "opt = optimizers.Adam(lr=0.01)\n",
    "model_two.compile(optimizer=opt,\n",
    "              loss='categorical_crossentropy',\n",
    "              metrics=['accuracy'])\n",
    "\n",
    "model_two.summary()\n",
    "\n",
    "model_two.fit(train_x, train_y, batch_size = 200, epochs = 10, validation_data = (test_x, test_y), callbacks = [history])"
   ]
  },
  {
   "cell_type": "code",
   "execution_count": 49,
   "metadata": {},
   "outputs": [
    {
     "data": {
      "text/plain": [
       "Text(0, 0.5, 'Accuracy')"
      ]
     },
     "execution_count": 49,
     "metadata": {},
     "output_type": "execute_result"
    },
    {
     "data": {
      "image/png": "[encoded data removed]",
      "text/plain": [
       "<Figure size 432x288 with 1 Axes>"
      ]
     },
     "metadata": {
      "needs_background": "light"
     },
     "output_type": "display_data"
    }
   ],
   "source": [
    "x_range = np.arange(1, 11, 1)\n",
    "plt.plot(x_range, history.train_accuracy)\n",
    "plt.plot(x_range, history.test_accuracy)\n",
    "plt.title('Model 2 (4 Hidden Layers, 2000, 1000, 500, 250 nodes)')\n",
    "plt.legend((\"Training\", \"Testing\"), loc=\"lower right\")\n",
    "plt.xlabel('Epoch')\n",
    "plt.ylabel('Accuracy')"
   ]
  }
 ],
 "metadata": {
  "kernelspec": {
   "display_name": "Python 3",
   "language": "python",
   "name": "python3"
  },
  "language_info": {
   "codemirror_mode": {
    "name": "ipython",
    "version": 3
   },
   "file_extension": ".py",
   "mimetype": "text/x-python",
   "name": "python",
   "nbconvert_exporter": "python",
   "pygments_lexer": "ipython3",
   "version": "3.7.1"
  }
 },
 "nbformat": 4,
 "nbformat_minor": 2
}
