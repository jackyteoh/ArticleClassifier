{
 "cells": [
  {
   "cell_type": "code",
   "execution_count": 1,
   "metadata": {},
   "outputs": [],
   "source": [
    "import numpy as np\n",
    "import os\n",
    "import re\n",
    "os.chdir(\"./Desktop/ArticleClassifier\")"
   ]
  },
  {
   "cell_type": "markdown",
   "metadata": {},
   "source": [
    "# Preprocessing the Data"
   ]
  },
  {
   "cell_type": "code",
   "execution_count": 2,
   "metadata": {},
   "outputs": [],
   "source": [
    "# Run through 70% of the text files from each category (folder)\n",
    "# 70% Training, 30% Testing for each category\n",
    "#Creates training_titles and testing_tiles\n",
    "training_titles_files = []\n",
    "testing_titles_files = [] \n",
    "\n",
    "business_files = os.listdir(\"./business\")\n",
    "train_business = business_files[0:358]\n",
    "test_business = business_files[358:] # length = 152 TOTAL = 510 \n",
    "training_titles_files.append(train_business)\n",
    "testing_titles_files.append(test_business)\n",
    "\n",
    "entertainment_files = os.listdir(\"./entertainment\")\n",
    "train_entertainment = entertainment_files[0:270]\n",
    "test_entertainment = entertainment_files[270:] # 116 TOTAL = 386\n",
    "training_titles_files.append(train_entertainment)\n",
    "testing_titles_files.append(test_entertainment)\n",
    "\n",
    "politics_files = os.listdir(\"./politics\")\n",
    "train_politics = politics_files[0:293]\n",
    "test_politics = politics_files[293:] # 124 # 417\n",
    "training_titles_files.append(train_politics)\n",
    "testing_titles_files.append(test_politics)\n",
    "\n",
    "sport_files = os.listdir(\"./sport\")\n",
    "train_sport = sport_files[0:359]\n",
    "test_sport = sport_files[359:] # 152 # 511\n",
    "training_titles_files.append(train_sport)\n",
    "testing_titles_files.append(test_sport)\n",
    "\n",
    "tech_files = os.listdir(\"./tech\")\n",
    "train_tech = tech_files[0:281]\n",
    "test_tech = tech_files[281:] # 120 #401\n",
    "training_titles_files.append(train_tech)\n",
    "testing_titles_files.append(test_tech)"
   ]
  },
  {
   "cell_type": "code",
   "execution_count": 3,
   "metadata": {},
   "outputs": [],
   "source": [
    "training_text_file = open(\"trainingTextFile.txt\", \"w\")\n",
    "\n",
    "classes = 1\n",
    "for i in training_titles_files:\n",
    "\tfolder_name = \"\"\n",
    "\tif (classes == 1): \n",
    "\t\tfolder_name = \"business\"\n",
    "\telif (classes == 2):\n",
    "\t\tfolder_name = \"entertainment\"\n",
    "\telif (classes == 3):\n",
    "\t\tfolder_name = \"politics\"\n",
    "\telif (classes == 4):\n",
    "\t\tfolder_name = \"sport\"\n",
    "\telif (classes == 5):\n",
    "\t\tfolder_name = \"tech\"\n",
    "\tfor file_name in i:\n",
    "\t\tfile = \"./\" + folder_name + \"/\" + file_name\n",
    "\t\t#print(file)\n",
    "\t\topened = open(file, \"r\")\n",
    "\t\ttraining_text_file.write(opened.readline())\n",
    "\t\topened.close()\n",
    "\tclasses = classes + 1\n",
    "\n",
    "training_text_file.close()\n",
    "\n",
    "masterTestDataFile = open(\"testTextFile.txt\", \"w\")\n",
    "\n",
    "classes = 1\n",
    "for i in testing_titles_files:\n",
    "\tfolder_name = \"\"\n",
    "\tif (classes == 1): \n",
    "\t\tfolder_name = \"business\"\n",
    "\telif (classes == 2):\n",
    "\t\tfolder_name = \"entertainment\"\n",
    "\telif (classes == 3):\n",
    "\t\tfolder_name = \"politics\"\n",
    "\telif (classes == 4):\n",
    "\t\tfolder_name = \"sport\"\n",
    "\telif (classes == 5):\n",
    "\t\tfolder_name = \"tech\"\n",
    "\tfor file_name in i:\n",
    "\t\tfile = \"./\" + folder_name + \"/\" + file_name\n",
    "\t\t#print (file)\n",
    "\t\topened = open(file, \"r\")\n",
    "\t\tlineRead = opened.readline()\n",
    "\t\t#try: \n",
    "\t\tmasterTestDataFile.write(lineRead)\n",
    "\t\t#except UnicodeDecodeError:\n",
    "\t\topened.close()\n",
    "\tclasses = classes + 1\n",
    "\n",
    "masterTestDataFile.close()\n",
    "\n",
    "#currency stemming nlp"
   ]
  },
  {
   "cell_type": "code",
   "execution_count": 4,
   "metadata": {},
   "outputs": [],
   "source": [
    "training = []\n",
    "testing = []\n",
    "\n",
    "# Puts words in dictionary, key = word, value = index\n",
    "trfile = open(\"trainingTextFile.txt\", \"r\")\n",
    "\n",
    "for line in trfile:\n",
    "\tline = line.replace(\"'\", \"\")\n",
    "\tnew_line = line.split()\n",
    "\tfor i in new_line:\n",
    "\t\ttraining.append(i)\n",
    "\n",
    "trfile.close()\n",
    "\n",
    "words = {}\n",
    "count = 0\n",
    "for i in training:\n",
    "\tif i not in words:\n",
    "\t\twords[i] = count\n",
    "\t\tcount = count + 1"
   ]
  },
  {
   "cell_type": "code",
   "execution_count": 35,
   "metadata": {},
   "outputs": [],
   "source": [
    "#Create Training Data Matrix\n",
    "d = len(words) # Number of features (unique words) we have in the dictionary\n",
    "# print(d)\n",
    "train_x = []\n",
    "\n",
    "trfile = open(\"trainingTextFile.txt\", \"r\")\n",
    "\n",
    "for line in trfile:\n",
    "\tline = line.replace(\"'\", \"\")\n",
    "\tword = line.split()\n",
    "\tarr = [0] * d\n",
    "\tfor i in word:\n",
    "\t\tindex = words[i]\n",
    "\t\tarr[index] = arr[index] + 1\n",
    "\ttrain_x.append(arr)\n",
    "trfile.close()"
   ]
  },
  {
   "cell_type": "code",
   "execution_count": 11,
   "metadata": {},
   "outputs": [],
   "source": [
    "#Target Training Vector\n",
    "train_y = np.zeros((1561, 5))\n",
    "for i in range(0, 1561):\n",
    "\tif i >= 358 and i < 628:\n",
    "\t\ttrain_y[i][1] = 1\n",
    "\telif i >= 628 and i < 921:\n",
    "\t\ttrain_y[i][2] = 1\n",
    "\telif i >= 921 and i < 1280:\n",
    "\t\ttrain_y[i][3] = 1\n",
    "\telif i >= 1280 and i < 1561:\n",
    "\t\ttrain_y[i][4] = 1\n",
    "\telse:\n",
    "\t\ttrain_y[i][0] = 1"
   ]
  },
  {
   "cell_type": "code",
   "execution_count": 12,
   "metadata": {},
   "outputs": [],
   "source": [
    "#Create Testing Data Matrix\n",
    "test_x = []\n",
    "\n",
    "testfile = open(\"testTextFile.txt\", \"r\")\n",
    "\n",
    "for line in testfile:\n",
    "\tline = line.replace(\"'\", \"\")\n",
    "\tword = line.split()\n",
    "\tarr = [0] * d\n",
    "\tfor i in word:\n",
    "\t\tif i in words:\n",
    "\t\t\tindex = words[i]\n",
    "\t\t\tarr[index] = arr[index] + 1\n",
    "\ttest_x.append(arr)\n",
    "\n",
    "testfile.close()"
   ]
  },
  {
   "cell_type": "code",
   "execution_count": 13,
   "metadata": {},
   "outputs": [],
   "source": [
    "#Target Test Vector\n",
    "test_y = np.zeros((664, 5))\n",
    "for i in range(152, 664):\n",
    "\tif i >= 152 and i < 268:\n",
    "\t\ttest_y[i][1] = 1\n",
    "\telif i >= 268 and i < 392:\n",
    "\t\ttest_y[i][2] = 1\n",
    "\telif i >= 392 and i < 544:\n",
    "\t\ttest_y[i][3] = 1\n",
    "\telif i >= 544 and i < 664:\n",
    "\t\ttest_y[i][4] = 1\n",
    "\telse:\n",
    "\t\ttest_y[i][0] = 1\n",
    "\n",
    "# countzero = 0\n",
    "# countone = 0\n",
    "# counttwo = 0\n",
    "# countthree = 0\n",
    "# countfour = 0\n",
    "# for i in test_y:\n",
    "# \tif i == 0:\n",
    "# \t\tcountzero+=1\n",
    "# \tif i == 1:\n",
    "# \t\tcountone += 1\n",
    "# \tif i == 2:\n",
    "# \t\tcounttwo+=1 \n",
    "# \tif i == 3:\n",
    "# \t\tcountthree+=1\n",
    "# \tif i == 4:\n",
    "# \t\tcountfour +=1\n",
    "\n",
    "#print(countzero)\n",
    "#print(countone)\n",
    "#print(counttwo)\n",
    "#print(countthree)\n",
    "#print(countfour)\n",
    "\n",
    "\n",
    "# y = 0 --> Business\n",
    "# y = 1 --> Entertainment\n",
    "# y = 2 --> Politics\n",
    "# y = 3 --> Sport\n",
    "# y = 4 --> Tech"
   ]
  },
  {
   "cell_type": "markdown",
   "metadata": {},
   "source": [
    "# Creating LossHistory Class"
   ]
  },
  {
   "cell_type": "code",
   "execution_count": 40,
   "metadata": {},
   "outputs": [],
   "source": [
    "# Got from keras.io\n",
    "class LossHistory(keras.callbacks.Callback):\n",
    "    def on_train_begin(self, logs={}):\n",
    "        self.losses = []\n",
    "        self.train_accuracy = []\n",
    "        self.test_accuracy = []\n",
    "\n",
    "    def on_epoch_end(self, epoch, logs={}):\n",
    "        self.losses.append(logs.get('val_loss'))\n",
    "        self.train_accuracy.append(logs.get('acc'))\n",
    "        self.test_accuracy.append(logs.get('val_acc'))\n",
    "\n",
    "history = LossHistory()"
   ]
  },
  {
   "cell_type": "markdown",
   "metadata": {},
   "source": [
    "# Neural Networks with varying number of hidden layers\n"
   ]
  },
  {
   "cell_type": "code",
   "execution_count": 41,
   "metadata": {},
   "outputs": [],
   "source": [
    "from keras.models import Sequential\n",
    "from keras.layers import Dense\n",
    "from keras import optimizers\n",
    "import keras"
   ]
  },
  {
   "cell_type": "code",
   "execution_count": 42,
   "metadata": {},
   "outputs": [
    {
     "name": "stdout",
     "output_type": "stream",
     "text": [
      "_________________________________________________________________\n",
      "Layer (type)                 Output Shape              Param #   \n",
      "=================================================================\n",
      "dense_1 (Dense)              (None, 3454)              11933570  \n",
      "_________________________________________________________________\n",
      "dense_2 (Dense)              (None, 500)               1727500   \n",
      "_________________________________________________________________\n",
      "dense_3 (Dense)              (None, 500)               250500    \n",
      "_________________________________________________________________\n",
      "dense_4 (Dense)              (None, 5)                 2505      \n",
      "=================================================================\n",
      "Total params: 13,914,075\n",
      "Trainable params: 13,914,075\n",
      "Non-trainable params: 0\n",
      "_________________________________________________________________\n",
      "Train on 1561 samples, validate on 664 samples\n",
      "Epoch 1/10\n",
      "1561/1561 [==============================] - 3s 2ms/step - loss: 1.5421 - acc: 0.4600 - val_loss: 0.8632 - val_acc: 0.6777\n",
      "Epoch 2/10\n",
      "1561/1561 [==============================] - 2s 1ms/step - loss: 0.2088 - acc: 0.9353 - val_loss: 1.0143 - val_acc: 0.7455\n",
      "Epoch 3/10\n",
      "1561/1561 [==============================] - 2s 1ms/step - loss: 0.0405 - acc: 0.9891 - val_loss: 1.6306 - val_acc: 0.7440\n",
      "Epoch 4/10\n",
      "1561/1561 [==============================] - 2s 1ms/step - loss: 0.0491 - acc: 0.9917 - val_loss: 1.7530 - val_acc: 0.7349\n",
      "Epoch 5/10\n",
      "1561/1561 [==============================] - 2s 1ms/step - loss: 0.0823 - acc: 0.9917 - val_loss: 2.1984 - val_acc: 0.7304\n",
      "Epoch 6/10\n",
      "1561/1561 [==============================] - 2s 1ms/step - loss: 0.0719 - acc: 0.9936 - val_loss: 2.6333 - val_acc: 0.7214\n",
      "Epoch 7/10\n",
      "1561/1561 [==============================] - 2s 1ms/step - loss: 0.1367 - acc: 0.9898 - val_loss: 2.6393 - val_acc: 0.7169\n",
      "Epoch 8/10\n",
      "1561/1561 [==============================] - 2s 1ms/step - loss: 0.0859 - acc: 0.9942 - val_loss: 2.8858 - val_acc: 0.7033\n",
      "Epoch 9/10\n",
      "1561/1561 [==============================] - 2s 1ms/step - loss: 0.1517 - acc: 0.9885 - val_loss: 2.8362 - val_acc: 0.6867\n",
      "Epoch 10/10\n",
      "1561/1561 [==============================] - 2s 1ms/step - loss: 0.1714 - acc: 0.9865 - val_loss: 3.5310 - val_acc: 0.6642\n"
     ]
    },
    {
     "data": {
      "text/plain": [
       "<keras.callbacks.History at 0x12f038ac8>"
      ]
     },
     "execution_count": 42,
     "metadata": {},
     "output_type": "execute_result"
    }
   ],
   "source": [
    "# epoch how many big loops\n",
    "# batch = how many times each loop\n",
    "\n",
    "keras.backend.clear_session()\n",
    "\n",
    "train_y = np.array(train_y)\n",
    "train_x = np.array(train_x)\n",
    "test_x = np.array(test_x)\n",
    "test_y = np.array(test_y)\n",
    "\n",
    "# First model (smallest hidden layers (2))\n",
    "model_one = Sequential()\n",
    "\n",
    "model_one.add(Dense(units = d, input_shape = train_x[0].shape))\n",
    "\n",
    "model_one.add(Dense(units = 500, activation = 'relu'))\n",
    "model_one.add(Dense(units = 500, activation = 'relu'))\n",
    "\n",
    "model_one.add(Dense(units = 5, activation = 'softmax'))\n",
    "\n",
    "model_one.summary()\n",
    "\n",
    "opt = optimizers.Adam(lr=0.01)\n",
    "model_one.compile(optimizer=opt,\n",
    "              loss='categorical_crossentropy',\n",
    "              metrics=['accuracy'])\n",
    "\n",
    "\n",
    "model_one.fit(train_x, train_y, batch_size = 200, epochs = 10, validation_data = (test_x, test_y), callbacks = [history])\n",
    "\n",
    "#epochs=20, batch_size=42, validation_data=(X_ts, Y_ts), callbacks=[history_cb])\n",
    "#model.summary()"
   ]
  },
  {
   "cell_type": "code",
   "execution_count": 23,
   "metadata": {},
   "outputs": [
    {
     "name": "stdout",
     "output_type": "stream",
     "text": [
      "_________________________________________________________________\n",
      "Layer (type)                 Output Shape              Param #   \n",
      "=================================================================\n",
      "dense_50 (Dense)             (None, 3454)              11933570  \n",
      "_________________________________________________________________\n",
      "dense_51 (Dense)             (None, 500)               1727500   \n",
      "_________________________________________________________________\n",
      "dense_52 (Dense)             (None, 500)               250500    \n",
      "_________________________________________________________________\n",
      "dense_53 (Dense)             (None, 500)               250500    \n",
      "_________________________________________________________________\n",
      "dense_54 (Dense)             (None, 500)               250500    \n",
      "_________________________________________________________________\n",
      "dense_55 (Dense)             (None, 5)                 2505      \n",
      "=================================================================\n",
      "Total params: 14,415,075\n",
      "Trainable params: 14,415,075\n",
      "Non-trainable params: 0\n",
      "_________________________________________________________________\n",
      "Train on 1561 samples, validate on 664 samples\n",
      "Epoch 1/10\n",
      "1561/1561 [==============================] - 3s 2ms/step - loss: 2.3084 - acc: 0.2652 - val_loss: 1.2961 - val_acc: 0.4187\n",
      "Epoch 2/10\n",
      "1561/1561 [==============================] - 2s 1ms/step - loss: 1.0191 - acc: 0.6611 - val_loss: 0.6427 - val_acc: 0.6491\n",
      "Epoch 3/10\n",
      "1561/1561 [==============================] - 2s 1ms/step - loss: 0.3872 - acc: 0.8917 - val_loss: 0.6727 - val_acc: 0.7259\n",
      "Epoch 4/10\n",
      "1561/1561 [==============================] - 2s 1ms/step - loss: 0.1406 - acc: 0.9731 - val_loss: 0.8459 - val_acc: 0.7184\n",
      "Epoch 5/10\n",
      "1561/1561 [==============================] - 2s 1ms/step - loss: 0.0771 - acc: 0.9898 - val_loss: 0.9354 - val_acc: 0.7304\n",
      "Epoch 6/10\n",
      "1561/1561 [==============================] - 2s 1ms/step - loss: 0.0841 - acc: 0.9904 - val_loss: 1.2378 - val_acc: 0.7319\n",
      "Epoch 7/10\n",
      "1561/1561 [==============================] - 2s 1ms/step - loss: 0.0792 - acc: 0.9917 - val_loss: 1.3987 - val_acc: 0.7440\n",
      "Epoch 8/10\n",
      "1561/1561 [==============================] - 2s 1ms/step - loss: 0.0975 - acc: 0.9917 - val_loss: 1.7635 - val_acc: 0.7349\n",
      "Epoch 9/10\n",
      "1561/1561 [==============================] - 2s 1ms/step - loss: 0.0966 - acc: 0.9827 - val_loss: 1.4695 - val_acc: 0.7154\n",
      "Epoch 10/10\n",
      "1561/1561 [==============================] - 2s 1ms/step - loss: 0.0842 - acc: 0.9930 - val_loss: 1.9652 - val_acc: 0.7364\n"
     ]
    },
    {
     "data": {
      "text/plain": [
       "<keras.callbacks.History at 0xb4ca3bc88>"
      ]
     },
     "execution_count": 23,
     "metadata": {},
     "output_type": "execute_result"
    }
   ],
   "source": [
    "# Second model (Medium hidden layers (4))\n",
    "model_two = Sequential()\n",
    "\n",
    "model_two.add(Dense(units = d, input_shape = train_x[0].shape))\n",
    "\n",
    "model_two.add(Dense(units = 500, activation = 'relu'))\n",
    "model_two.add(Dense(units = 500, activation = 'relu'))\n",
    "model_two.add(Dense(units = 500, activation = 'relu'))\n",
    "model_two.add(Dense(units = 500, activation = 'relu'))\n",
    "\n",
    "model_two.add(Dense(units = 5, activation = 'softmax'))\n",
    "\n",
    "opt = optimizers.Adam(lr=0.01)\n",
    "model_two.compile(optimizer=opt,\n",
    "              loss='categorical_crossentropy',\n",
    "              metrics=['accuracy'])\n",
    "\n",
    "model_two.summary()\n",
    "\n",
    "model_two.fit(train_x, train_y, batch_size = 200, epochs = 10, validation_data = (test_x, test_y))"
   ]
  },
  {
   "cell_type": "code",
   "execution_count": 22,
   "metadata": {},
   "outputs": [
    {
     "name": "stdout",
     "output_type": "stream",
     "text": [
      "_________________________________________________________________\n",
      "Layer (type)                 Output Shape              Param #   \n",
      "=================================================================\n",
      "dense_42 (Dense)             (None, 3454)              11933570  \n",
      "_________________________________________________________________\n",
      "dense_43 (Dense)             (None, 500)               1727500   \n",
      "_________________________________________________________________\n",
      "dense_44 (Dense)             (None, 500)               250500    \n",
      "_________________________________________________________________\n",
      "dense_45 (Dense)             (None, 500)               250500    \n",
      "_________________________________________________________________\n",
      "dense_46 (Dense)             (None, 500)               250500    \n",
      "_________________________________________________________________\n",
      "dense_47 (Dense)             (None, 500)               250500    \n",
      "_________________________________________________________________\n",
      "dense_48 (Dense)             (None, 500)               250500    \n",
      "_________________________________________________________________\n",
      "dense_49 (Dense)             (None, 5)                 2505      \n",
      "=================================================================\n",
      "Total params: 14,916,075\n",
      "Trainable params: 14,916,075\n",
      "Non-trainable params: 0\n",
      "_________________________________________________________________\n",
      "Train on 1561 samples, validate on 664 samples\n",
      "Epoch 1/10\n",
      "1561/1561 [==============================] - 3s 2ms/step - loss: 1.9581 - acc: 0.1992 - val_loss: 1.2011 - val_acc: 0.2515\n",
      "Epoch 2/10\n",
      "1561/1561 [==============================] - 2s 1ms/step - loss: 1.4875 - acc: 0.4094 - val_loss: 1.2901 - val_acc: 0.2816\n",
      "Epoch 3/10\n",
      "1561/1561 [==============================] - 2s 1ms/step - loss: 1.4173 - acc: 0.5426 - val_loss: 1.2746 - val_acc: 0.4639\n",
      "Epoch 4/10\n",
      "1561/1561 [==============================] - 2s 1ms/step - loss: 0.7293 - acc: 0.7559 - val_loss: 1.1939 - val_acc: 0.5316\n",
      "Epoch 5/10\n",
      "1561/1561 [==============================] - 2s 1ms/step - loss: 0.3897 - acc: 0.8930 - val_loss: 0.8950 - val_acc: 0.6657\n",
      "Epoch 6/10\n",
      "1561/1561 [==============================] - 2s 1ms/step - loss: 0.1987 - acc: 0.9596 - val_loss: 0.8346 - val_acc: 0.7018\n",
      "Epoch 7/10\n",
      "1561/1561 [==============================] - 2s 1ms/step - loss: 0.1097 - acc: 0.9904 - val_loss: 0.9918 - val_acc: 0.7169\n",
      "Epoch 8/10\n",
      "1561/1561 [==============================] - 2s 1ms/step - loss: 0.0921 - acc: 0.9923 - val_loss: 1.0324 - val_acc: 0.7199\n",
      "Epoch 9/10\n",
      "1561/1561 [==============================] - 2s 1ms/step - loss: 0.0725 - acc: 0.9955 - val_loss: 1.4263 - val_acc: 0.7214\n",
      "Epoch 10/10\n",
      "1561/1561 [==============================] - 2s 1ms/step - loss: 0.0725 - acc: 0.9955 - val_loss: 1.7321 - val_acc: 0.7123\n"
     ]
    },
    {
     "data": {
      "text/plain": [
       "<keras.callbacks.History at 0xc766fb5f8>"
      ]
     },
     "execution_count": 22,
     "metadata": {},
     "output_type": "execute_result"
    }
   ],
   "source": [
    "# Third model (Large hidden layers (6))\n",
    "model_three = Sequential()\n",
    "\n",
    "model_three.add(Dense(units = d, input_shape = train_x[0].shape))\n",
    "\n",
    "model_three.add(Dense(units = 500, activation = 'relu'))\n",
    "model_three.add(Dense(units = 500, activation = 'relu'))\n",
    "model_three.add(Dense(units = 500, activation = 'relu'))\n",
    "model_three.add(Dense(units = 500, activation = 'relu'))\n",
    "model_three.add(Dense(units = 500, activation = 'relu'))\n",
    "model_three.add(Dense(units = 500, activation = 'relu'))\n",
    "\n",
    "model_three.add(Dense(units = 5, activation = 'softmax'))\n",
    "\n",
    "model_three.summary()\n",
    "\n",
    "opt = optimizers.Adam(lr=0.01)\n",
    "model_three.compile(optimizer=opt,\n",
    "              loss='categorical_crossentropy',\n",
    "              metrics=['accuracy'])\n",
    "\n",
    "\n",
    "model_three.fit(train_x, train_y, batch_size = 200, epochs = 10, validation_data = (test_x, test_y))\n",
    "\n",
    "#We think this has lower accuracy bc of overfitting"
   ]
  },
  {
   "cell_type": "markdown",
   "metadata": {},
   "source": [
    "# Neural Networks (Second Model) with varying activation functions"
   ]
  },
  {
   "cell_type": "code",
   "execution_count": 25,
   "metadata": {},
   "outputs": [
    {
     "name": "stdout",
     "output_type": "stream",
     "text": [
      "_________________________________________________________________\n",
      "Layer (type)                 Output Shape              Param #   \n",
      "=================================================================\n",
      "dense_5 (Dense)              (None, 3454)              11933570  \n",
      "_________________________________________________________________\n",
      "dense_6 (Dense)              (None, 500)               1727500   \n",
      "_________________________________________________________________\n",
      "dense_7 (Dense)              (None, 500)               250500    \n",
      "_________________________________________________________________\n",
      "dense_8 (Dense)              (None, 500)               250500    \n",
      "_________________________________________________________________\n",
      "dense_9 (Dense)              (None, 500)               250500    \n",
      "_________________________________________________________________\n",
      "dense_10 (Dense)             (None, 5)                 2505      \n",
      "=================================================================\n",
      "Total params: 14,415,075\n",
      "Trainable params: 14,415,075\n",
      "Non-trainable params: 0\n",
      "_________________________________________________________________\n",
      "Train on 1561 samples, validate on 664 samples\n",
      "Epoch 1/10\n",
      "1561/1561 [==============================] - 2s 2ms/step - loss: 5.6786 - acc: 0.1941 - val_loss: 4.8363 - val_acc: 0.2289\n",
      "Epoch 2/10\n",
      "1561/1561 [==============================] - 2s 1ms/step - loss: 4.5527 - acc: 0.2114 - val_loss: 3.8183 - val_acc: 0.2289\n",
      "Epoch 3/10\n",
      "1561/1561 [==============================] - 2s 1ms/step - loss: 4.2457 - acc: 0.2268 - val_loss: 3.8326 - val_acc: 0.2289\n",
      "Epoch 4/10\n",
      "1561/1561 [==============================] - 2s 1ms/step - loss: 4.2033 - acc: 0.2140 - val_loss: 3.9011 - val_acc: 0.1747\n",
      "Epoch 5/10\n",
      "1561/1561 [==============================] - 2s 1ms/step - loss: 4.1691 - acc: 0.2204 - val_loss: 3.8558 - val_acc: 0.1747\n",
      "Epoch 6/10\n",
      "1561/1561 [==============================] - 2s 1ms/step - loss: 4.1733 - acc: 0.1980 - val_loss: 3.8611 - val_acc: 0.2289\n",
      "Epoch 7/10\n",
      "1561/1561 [==============================] - 2s 1ms/step - loss: 4.1750 - acc: 0.2082 - val_loss: 3.8515 - val_acc: 0.2289\n",
      "Epoch 8/10\n",
      "1561/1561 [==============================] - 2s 1ms/step - loss: 4.1654 - acc: 0.2184 - val_loss: 3.8861 - val_acc: 0.2289\n",
      "Epoch 9/10\n",
      "1561/1561 [==============================] - 2s 1ms/step - loss: 4.1671 - acc: 0.2133 - val_loss: 3.9241 - val_acc: 0.2289\n",
      "Epoch 10/10\n",
      "1561/1561 [==============================] - 2s 1ms/step - loss: 4.1610 - acc: 0.2293 - val_loss: 3.8770 - val_acc: 0.2289\n"
     ]
    },
    {
     "data": {
      "text/plain": [
       "<keras.callbacks.History at 0xc80659518>"
      ]
     },
     "execution_count": 25,
     "metadata": {},
     "output_type": "execute_result"
    }
   ],
   "source": [
    "# Second model (Medium hidden layers (4))\n",
    "model_two = Sequential()\n",
    "\n",
    "model_two.add(Dense(units = d, input_shape = train_x[0].shape))\n",
    "\n",
    "model_two.add(Dense(units = 500, activation = 'sigmoid'))\n",
    "model_two.add(Dense(units = 500, activation = 'sigmoid'))\n",
    "model_two.add(Dense(units = 500, activation = 'sigmoid'))\n",
    "model_two.add(Dense(units = 500, activation = 'sigmoid'))\n",
    "\n",
    "model_two.add(Dense(units = 5, activation = 'softmax'))\n",
    "\n",
    "opt = optimizers.Adam(lr=0.01)\n",
    "model_two.compile(optimizer=opt,\n",
    "              loss='categorical_crossentropy',\n",
    "              metrics=['accuracy'])\n",
    "\n",
    "model_two.summary()\n",
    "\n",
    "model_two.fit(train_x, train_y, batch_size = 200, epochs = 10, validation_data = (test_x, test_y))"
   ]
  },
  {
   "cell_type": "code",
   "execution_count": 29,
   "metadata": {},
   "outputs": [
    {
     "name": "stdout",
     "output_type": "stream",
     "text": [
      "_________________________________________________________________\n",
      "Layer (type)                 Output Shape              Param #   \n",
      "=================================================================\n",
      "dense_29 (Dense)             (None, 3454)              11933570  \n",
      "_________________________________________________________________\n",
      "dense_30 (Dense)             (None, 500)               1727500   \n",
      "_________________________________________________________________\n",
      "dense_31 (Dense)             (None, 500)               250500    \n",
      "_________________________________________________________________\n",
      "dense_32 (Dense)             (None, 500)               250500    \n",
      "_________________________________________________________________\n",
      "dense_33 (Dense)             (None, 500)               250500    \n",
      "_________________________________________________________________\n",
      "dense_34 (Dense)             (None, 5)                 2505      \n",
      "=================================================================\n",
      "Total params: 14,415,075\n",
      "Trainable params: 14,415,075\n",
      "Non-trainable params: 0\n",
      "_________________________________________________________________\n",
      "Train on 1561 samples, validate on 664 samples\n",
      "Epoch 1/10\n",
      "1561/1561 [==============================] - 3s 2ms/step - loss: 5.5574 - acc: 0.3139 - val_loss: 1.7642 - val_acc: 0.3464\n",
      "Epoch 2/10\n",
      "1561/1561 [==============================] - 2s 1ms/step - loss: 1.5443 - acc: 0.4023 - val_loss: 1.3191 - val_acc: 0.4111\n",
      "Epoch 3/10\n",
      "1561/1561 [==============================] - 2s 1ms/step - loss: 1.0838 - acc: 0.5400 - val_loss: 1.0187 - val_acc: 0.5377\n",
      "Epoch 4/10\n",
      "1561/1561 [==============================] - 2s 1ms/step - loss: 0.7622 - acc: 0.6931 - val_loss: 1.0769 - val_acc: 0.5919\n",
      "Epoch 5/10\n",
      "1561/1561 [==============================] - 2s 1ms/step - loss: 0.4774 - acc: 0.8347 - val_loss: 1.1877 - val_acc: 0.6175\n",
      "Epoch 6/10\n",
      "1561/1561 [==============================] - 2s 1ms/step - loss: 0.3385 - acc: 0.8969 - val_loss: 1.3037 - val_acc: 0.6702\n",
      "Epoch 7/10\n",
      "1561/1561 [==============================] - 2s 1ms/step - loss: 0.2385 - acc: 0.9334 - val_loss: 1.1537 - val_acc: 0.6867\n",
      "Epoch 8/10\n",
      "1561/1561 [==============================] - 2s 1ms/step - loss: 0.1607 - acc: 0.9571 - val_loss: 1.3199 - val_acc: 0.7033\n",
      "Epoch 9/10\n",
      "1561/1561 [==============================] - 2s 1ms/step - loss: 0.1138 - acc: 0.9699 - val_loss: 1.3490 - val_acc: 0.6988\n",
      "Epoch 10/10\n",
      "1561/1561 [==============================] - 2s 1ms/step - loss: 0.0827 - acc: 0.9763 - val_loss: 1.3748 - val_acc: 0.7018\n"
     ]
    },
    {
     "data": {
      "text/plain": [
       "<keras.callbacks.History at 0xb371a9b38>"
      ]
     },
     "execution_count": 29,
     "metadata": {},
     "output_type": "execute_result"
    }
   ],
   "source": [
    "# Second model (Medium hidden layers (4))\n",
    "model_two = Sequential()\n",
    "\n",
    "model_two.add(Dense(units = d, input_shape = train_x[0].shape))\n",
    "\n",
    "model_two.add(Dense(units = 500, activation = 'tanh'))\n",
    "model_two.add(Dense(units = 500, activation = 'tanh'))\n",
    "model_two.add(Dense(units = 500, activation = 'tanh'))\n",
    "model_two.add(Dense(units = 500, activation = 'tanh'))\n",
    "\n",
    "model_two.add(Dense(units = 5, activation = 'softmax'))\n",
    "\n",
    "opt = optimizers.Adam(lr=0.01)\n",
    "model_two.compile(optimizer=opt,\n",
    "              loss='categorical_crossentropy',\n",
    "              metrics=['accuracy'])\n",
    "\n",
    "model_two.summary()\n",
    "\n",
    "model_two.fit(train_x, train_y, batch_size = 200, epochs = 10, validation_data = (test_x, test_y))"
   ]
  },
  {
   "cell_type": "markdown",
   "metadata": {},
   "source": [
    "# Neural Networks (Second Model) with varying number of hidden nodes"
   ]
  },
  {
   "cell_type": "code",
   "execution_count": 33,
   "metadata": {},
   "outputs": [
    {
     "name": "stdout",
     "output_type": "stream",
     "text": [
      "_________________________________________________________________\n",
      "Layer (type)                 Output Shape              Param #   \n",
      "=================================================================\n",
      "dense_53 (Dense)             (None, 3454)              11933570  \n",
      "_________________________________________________________________\n",
      "dense_54 (Dense)             (None, 1000)              3455000   \n",
      "_________________________________________________________________\n",
      "dense_55 (Dense)             (None, 500)               500500    \n",
      "_________________________________________________________________\n",
      "dense_56 (Dense)             (None, 250)               125250    \n",
      "_________________________________________________________________\n",
      "dense_57 (Dense)             (None, 125)               31375     \n",
      "_________________________________________________________________\n",
      "dense_58 (Dense)             (None, 5)                 630       \n",
      "=================================================================\n",
      "Total params: 16,046,325\n",
      "Trainable params: 16,046,325\n",
      "Non-trainable params: 0\n",
      "_________________________________________________________________\n",
      "Train on 1561 samples, validate on 664 samples\n",
      "Epoch 1/10\n",
      "1561/1561 [==============================] - 3s 2ms/step - loss: 2.2552 - acc: 0.3434 - val_loss: 1.1364 - val_acc: 0.4955\n",
      "Epoch 2/10\n",
      "1561/1561 [==============================] - 2s 1ms/step - loss: 0.7921 - acc: 0.7341 - val_loss: 1.2554 - val_acc: 0.6446\n",
      "Epoch 3/10\n",
      "1561/1561 [==============================] - 2s 1ms/step - loss: 0.2496 - acc: 0.9398 - val_loss: 0.7206 - val_acc: 0.7033\n",
      "Epoch 4/10\n",
      "1561/1561 [==============================] - 2s 1ms/step - loss: 0.0834 - acc: 0.9865 - val_loss: 0.7703 - val_acc: 0.6928\n",
      "Epoch 5/10\n",
      "1561/1561 [==============================] - 2s 1ms/step - loss: 0.0433 - acc: 0.9917 - val_loss: 1.1407 - val_acc: 0.7289\n",
      "Epoch 6/10\n",
      "1561/1561 [==============================] - 2s 1ms/step - loss: 0.0139 - acc: 0.9981 - val_loss: 1.3566 - val_acc: 0.7078\n",
      "Epoch 7/10\n",
      "1561/1561 [==============================] - 2s 1ms/step - loss: 0.0183 - acc: 0.9974 - val_loss: 1.5008 - val_acc: 0.7334\n",
      "Epoch 8/10\n",
      "1561/1561 [==============================] - 2s 1ms/step - loss: 0.0360 - acc: 0.9923 - val_loss: 1.2452 - val_acc: 0.7169\n",
      "Epoch 9/10\n",
      "1561/1561 [==============================] - 2s 1ms/step - loss: 0.0646 - acc: 0.9891 - val_loss: 1.6947 - val_acc: 0.7184\n",
      "Epoch 10/10\n",
      "1561/1561 [==============================] - 2s 1ms/step - loss: 0.1216 - acc: 0.9865 - val_loss: 2.3324 - val_acc: 0.6747\n"
     ]
    },
    {
     "data": {
      "text/plain": [
       "<keras.callbacks.History at 0xcda44ea20>"
      ]
     },
     "execution_count": 33,
     "metadata": {},
     "output_type": "execute_result"
    }
   ],
   "source": [
    "# Second model (Medium hidden layers (4))\n",
    "model_two = Sequential()\n",
    "\n",
    "model_two.add(Dense(units = d, input_shape = train_x[0].shape))\n",
    "\n",
    "model_two.add(Dense(units = 1000, activation = 'relu'))\n",
    "model_two.add(Dense(units = 500, activation = 'relu'))\n",
    "model_two.add(Dense(units = 250, activation = 'relu'))\n",
    "model_two.add(Dense(units = 125, activation = 'relu'))\n",
    "\n",
    "model_two.add(Dense(units = 5, activation = 'softmax'))\n",
    "\n",
    "opt = optimizers.Adam(lr=0.01)\n",
    "model_two.compile(optimizer=opt,\n",
    "              loss='categorical_crossentropy',\n",
    "              metrics=['accuracy'])\n",
    "\n",
    "model_two.summary()\n",
    "\n",
    "model_two.fit(train_x, train_y, batch_size = 200, epochs = 10, validation_data = (test_x, test_y))"
   ]
  },
  {
   "cell_type": "code",
   "execution_count": 32,
   "metadata": {},
   "outputs": [
    {
     "name": "stdout",
     "output_type": "stream",
     "text": [
      "_________________________________________________________________\n",
      "Layer (type)                 Output Shape              Param #   \n",
      "=================================================================\n",
      "dense_47 (Dense)             (None, 3454)              11933570  \n",
      "_________________________________________________________________\n",
      "dense_48 (Dense)             (None, 2000)              6910000   \n",
      "_________________________________________________________________\n",
      "dense_49 (Dense)             (None, 1000)              2001000   \n",
      "_________________________________________________________________\n",
      "dense_50 (Dense)             (None, 500)               500500    \n",
      "_________________________________________________________________\n",
      "dense_51 (Dense)             (None, 250)               125250    \n",
      "_________________________________________________________________\n",
      "dense_52 (Dense)             (None, 5)                 1255      \n",
      "=================================================================\n",
      "Total params: 21,471,575\n",
      "Trainable params: 21,471,575\n",
      "Non-trainable params: 0\n",
      "_________________________________________________________________\n",
      "Train on 1561 samples, validate on 664 samples\n",
      "Epoch 1/10\n",
      "1561/1561 [==============================] - 4s 3ms/step - loss: 2.9000 - acc: 0.2172 - val_loss: 1.5439 - val_acc: 0.2530\n",
      "Epoch 2/10\n",
      "1561/1561 [==============================] - 3s 2ms/step - loss: 2.1525 - acc: 0.4222 - val_loss: 1.0861 - val_acc: 0.4563\n",
      "Epoch 3/10\n",
      "1561/1561 [==============================] - 3s 2ms/step - loss: 1.2254 - acc: 0.7060 - val_loss: 0.8779 - val_acc: 0.5663\n",
      "Epoch 4/10\n",
      "1561/1561 [==============================] - 3s 2ms/step - loss: 0.7977 - acc: 0.8463 - val_loss: 1.0814 - val_acc: 0.6822\n",
      "Epoch 5/10\n",
      "1561/1561 [==============================] - 3s 2ms/step - loss: 0.5730 - acc: 0.9078 - val_loss: 1.1396 - val_acc: 0.6521\n",
      "Epoch 6/10\n",
      "1561/1561 [==============================] - 3s 2ms/step - loss: 0.4588 - acc: 0.9468 - val_loss: 0.9222 - val_acc: 0.6898\n",
      "Epoch 7/10\n",
      "1561/1561 [==============================] - 3s 2ms/step - loss: 0.3859 - acc: 0.9616 - val_loss: 1.0984 - val_acc: 0.7108\n",
      "Epoch 8/10\n",
      "1561/1561 [==============================] - 3s 2ms/step - loss: 0.3707 - acc: 0.9699 - val_loss: 1.3559 - val_acc: 0.7184\n",
      "Epoch 9/10\n",
      "1561/1561 [==============================] - 3s 2ms/step - loss: 0.3739 - acc: 0.9680 - val_loss: 1.4481 - val_acc: 0.7244\n",
      "Epoch 10/10\n",
      "1561/1561 [==============================] - 3s 2ms/step - loss: 0.4567 - acc: 0.9609 - val_loss: 1.7418 - val_acc: 0.6898\n"
     ]
    },
    {
     "data": {
      "text/plain": [
       "<keras.callbacks.History at 0xb38cc0e80>"
      ]
     },
     "execution_count": 32,
     "metadata": {},
     "output_type": "execute_result"
    }
   ],
   "source": [
    "# Second model (Medium hidden layers (4))\n",
    "model_two = Sequential()\n",
    "\n",
    "model_two.add(Dense(units = d, input_shape = train_x[0].shape))\n",
    "\n",
    "model_two.add(Dense(units = 2000, activation = 'relu'))\n",
    "model_two.add(Dense(units = 1000, activation = 'relu'))\n",
    "model_two.add(Dense(units = 500, activation = 'relu'))\n",
    "model_two.add(Dense(units = 250, activation = 'relu'))\n",
    "\n",
    "model_two.add(Dense(units = 5, activation = 'softmax'))\n",
    "\n",
    "opt = optimizers.Adam(lr=0.01)\n",
    "model_two.compile(optimizer=opt,\n",
    "              loss='categorical_crossentropy',\n",
    "              metrics=['accuracy'])\n",
    "\n",
    "model_two.summary()\n",
    "\n",
    "model_two.fit(train_x, train_y, batch_size = 200, epochs = 10, validation_data = (test_x, test_y))"
   ]
  },
  {
   "cell_type": "markdown",
   "metadata": {},
   "source": [
    "# Graphing the NN Datas"
   ]
  },
  {
   "cell_type": "code",
   "execution_count": 36,
   "metadata": {},
   "outputs": [],
   "source": [
    "import matplotlib.pyplot as plt"
   ]
  },
  {
   "cell_type": "code",
   "execution_count": 45,
   "metadata": {},
   "outputs": [
    {
     "data": {
      "text/plain": [
       "Text(0, 0.5, 'Accuracy')"
      ]
     },
     "execution_count": 45,
     "metadata": {},
     "output_type": "execute_result"
    },
    {
     "data": {
      "image/png": "[encoded data removed]",
      "text/plain": [
       "<Figure size 432x288 with 1 Axes>"
      ]
     },
     "metadata": {
      "needs_background": "light"
     },
     "output_type": "display_data"
    }
   ],
   "source": [
    "x_range = np.arange(1, 11, 1)\n",
    "plt.plot(x_range, history.train_accuracy)\n",
    "plt.plot(x_range, history.test_accuracy)\n",
    "plt.title('Model 2 (with Batch Normalization)')\n",
    "plt.legend((\"Training\", \"Testing\"), loc=\"best\")\n",
    "plt.xlabel('Epoch')\n",
    "plt.ylabel('Accuracy')"
   ]
  },
  {
   "cell_type": "code",
   "execution_count": null,
   "metadata": {},
   "outputs": [],
   "source": []
  }
 ],
 "metadata": {
  "kernelspec": {
   "display_name": "Python 3",
   "language": "python",
   "name": "python3"
  },
  "language_info": {
   "codemirror_mode": {
    "name": "ipython",
    "version": 3
   },
   "file_extension": ".py",
   "mimetype": "text/x-python",
   "name": "python",
   "nbconvert_exporter": "python",
   "pygments_lexer": "ipython3",
   "version": "3.7.1"
  }
 },
 "nbformat": 4,
 "nbformat_minor": 2
}
