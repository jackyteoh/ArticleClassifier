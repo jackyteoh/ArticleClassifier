{
 "cells": [
  {
   "cell_type": "code",
   "execution_count": 1,
   "metadata": {},
   "outputs": [],
   "source": [
    "import numpy as np\n",
    "import os\n",
    "import re\n",
    "os.chdir(\"./Desktop/ArticleClassifier\")"
   ]
  },
  {
   "cell_type": "markdown",
   "metadata": {},
   "source": [
    "# Preprocessing the Data"
   ]
  },
  {
   "cell_type": "code",
   "execution_count": 2,
   "metadata": {},
   "outputs": [],
   "source": [
    "# Run through 70% of the text files from each category (folder)\n",
    "# 70% Training, 30% Testing for each category\n",
    "#Creates training_titles and testing_tiles\n",
    "training_titles_files = []\n",
    "testing_titles_files = [] \n",
    "\n",
    "business_files = os.listdir(\"./business\")\n",
    "train_business = business_files[0:358]\n",
    "test_business = business_files[358:] # length = 152 TOTAL = 510 \n",
    "training_titles_files.append(train_business)\n",
    "testing_titles_files.append(test_business)\n",
    "\n",
    "entertainment_files = os.listdir(\"./entertainment\")\n",
    "train_entertainment = entertainment_files[0:270]\n",
    "test_entertainment = entertainment_files[270:] # 116 TOTAL = 386\n",
    "training_titles_files.append(train_entertainment)\n",
    "testing_titles_files.append(test_entertainment)\n",
    "\n",
    "politics_files = os.listdir(\"./politics\")\n",
    "train_politics = politics_files[0:293]\n",
    "test_politics = politics_files[293:] # 124 # 417\n",
    "training_titles_files.append(train_politics)\n",
    "testing_titles_files.append(test_politics)\n",
    "\n",
    "sport_files = os.listdir(\"./sport\")\n",
    "train_sport = sport_files[0:359]\n",
    "test_sport = sport_files[359:] # 152 # 511\n",
    "training_titles_files.append(train_sport)\n",
    "testing_titles_files.append(test_sport)\n",
    "\n",
    "tech_files = os.listdir(\"./tech\")\n",
    "train_tech = tech_files[0:281]\n",
    "test_tech = tech_files[281:] # 120 #401\n",
    "training_titles_files.append(train_tech)\n",
    "testing_titles_files.append(test_tech)"
   ]
  },
  {
   "cell_type": "code",
   "execution_count": 3,
   "metadata": {},
   "outputs": [],
   "source": [
    "training_text_file = open(\"trainingTextFile.txt\", \"w\")\n",
    "\n",
    "classes = 1\n",
    "for i in training_titles_files:\n",
    "\tfolder_name = \"\"\n",
    "\tif (classes == 1): \n",
    "\t\tfolder_name = \"business\"\n",
    "\telif (classes == 2):\n",
    "\t\tfolder_name = \"entertainment\"\n",
    "\telif (classes == 3):\n",
    "\t\tfolder_name = \"politics\"\n",
    "\telif (classes == 4):\n",
    "\t\tfolder_name = \"sport\"\n",
    "\telif (classes == 5):\n",
    "\t\tfolder_name = \"tech\"\n",
    "\tfor file_name in i:\n",
    "\t\tfile = \"./\" + folder_name + \"/\" + file_name\n",
    "\t\t#print(file)\n",
    "\t\topened = open(file, \"r\")\n",
    "\t\ttraining_text_file.write(opened.readline())\n",
    "\t\topened.close()\n",
    "\tclasses = classes + 1\n",
    "\n",
    "training_text_file.close()\n",
    "\n",
    "masterTestDataFile = open(\"testTextFile.txt\", \"w\")\n",
    "\n",
    "classes = 1\n",
    "for i in testing_titles_files:\n",
    "\tfolder_name = \"\"\n",
    "\tif (classes == 1): \n",
    "\t\tfolder_name = \"business\"\n",
    "\telif (classes == 2):\n",
    "\t\tfolder_name = \"entertainment\"\n",
    "\telif (classes == 3):\n",
    "\t\tfolder_name = \"politics\"\n",
    "\telif (classes == 4):\n",
    "\t\tfolder_name = \"sport\"\n",
    "\telif (classes == 5):\n",
    "\t\tfolder_name = \"tech\"\n",
    "\tfor file_name in i:\n",
    "\t\tfile = \"./\" + folder_name + \"/\" + file_name\n",
    "\t\t#print (file)\n",
    "\t\topened = open(file, \"r\")\n",
    "\t\tlineRead = opened.readline()\n",
    "\t\t#try: \n",
    "\t\tmasterTestDataFile.write(lineRead)\n",
    "\t\t#except UnicodeDecodeError:\n",
    "\t\topened.close()\n",
    "\tclasses = classes + 1\n",
    "\n",
    "masterTestDataFile.close()\n",
    "\n",
    "#currency stemming nlp"
   ]
  },
  {
   "cell_type": "code",
   "execution_count": 4,
   "metadata": {},
   "outputs": [],
   "source": [
    "training = []\n",
    "testing = []\n",
    "\n",
    "# Puts words in dictionary, key = word, value = index\n",
    "trfile = open(\"trainingTextFile.txt\", \"r\")\n",
    "\n",
    "for line in trfile:\n",
    "\tline = line.replace(\"'\", \"\")\n",
    "\tnew_line = line.split()\n",
    "\tfor i in new_line:\n",
    "\t\ttraining.append(i)\n",
    "\n",
    "trfile.close()\n",
    "\n",
    "words = {}\n",
    "count = 0\n",
    "for i in training:\n",
    "\tif i not in words:\n",
    "\t\twords[i] = count\n",
    "\t\tcount = count + 1"
   ]
  },
  {
   "cell_type": "code",
   "execution_count": 5,
   "metadata": {},
   "outputs": [],
   "source": [
    "#Create Training Data Matrix\n",
    "d = len(words) # Number of features (unique words) we have in the dictionary\n",
    "# print(d)\n",
    "train_x = []\n",
    "\n",
    "trfile = open(\"trainingTextFile.txt\", \"r\")\n",
    "\n",
    "for line in trfile:\n",
    "\tline = line.replace(\"'\", \"\")\n",
    "\tword = line.split()\n",
    "\tarr = [0] * d\n",
    "\tfor i in word:\n",
    "\t\tindex = words[i]\n",
    "\t\tarr[index] = arr[index] + 1\n",
    "\ttrain_x.append(arr)\n",
    "trfile.close()"
   ]
  },
  {
   "cell_type": "code",
   "execution_count": 6,
   "metadata": {},
   "outputs": [],
   "source": [
    "#Target Training Vector\n",
    "train_y = np.zeros((1561, 5))\n",
    "for i in range(0, 1561):\n",
    "\tif i >= 358 and i < 628:\n",
    "\t\ttrain_y[i][1] = 1\n",
    "\telif i >= 628 and i < 921:\n",
    "\t\ttrain_y[i][2] = 1\n",
    "\telif i >= 921 and i < 1280:\n",
    "\t\ttrain_y[i][3] = 1\n",
    "\telif i >= 1280 and i < 1561:\n",
    "\t\ttrain_y[i][4] = 1\n",
    "\telse:\n",
    "\t\ttrain_y[i][0] = 1"
   ]
  },
  {
   "cell_type": "code",
   "execution_count": 7,
   "metadata": {},
   "outputs": [],
   "source": [
    "#Create Testing Data Matrix\n",
    "test_x = []\n",
    "\n",
    "testfile = open(\"testTextFile.txt\", \"r\")\n",
    "\n",
    "for line in testfile:\n",
    "\tline = line.replace(\"'\", \"\")\n",
    "\tword = line.split()\n",
    "\tarr = [0] * d\n",
    "\tfor i in word:\n",
    "\t\tif i in words:\n",
    "\t\t\tindex = words[i]\n",
    "\t\t\tarr[index] = arr[index] + 1\n",
    "\ttest_x.append(arr)\n",
    "\n",
    "testfile.close()"
   ]
  },
  {
   "cell_type": "code",
   "execution_count": 8,
   "metadata": {},
   "outputs": [],
   "source": [
    "#Target Test Vector\n",
    "test_y = np.zeros((664, 5))\n",
    "for i in range(152, 664):\n",
    "\tif i >= 152 and i < 268:\n",
    "\t\ttest_y[i][1] = 1\n",
    "\telif i >= 268 and i < 392:\n",
    "\t\ttest_y[i][2] = 1\n",
    "\telif i >= 392 and i < 544:\n",
    "\t\ttest_y[i][3] = 1\n",
    "\telif i >= 544 and i < 664:\n",
    "\t\ttest_y[i][4] = 1\n",
    "\telse:\n",
    "\t\ttest_y[i][0] = 1\n",
    "\n",
    "# countzero = 0\n",
    "# countone = 0\n",
    "# counttwo = 0\n",
    "# countthree = 0\n",
    "# countfour = 0\n",
    "# for i in test_y:\n",
    "# \tif i == 0:\n",
    "# \t\tcountzero+=1\n",
    "# \tif i == 1:\n",
    "# \t\tcountone += 1\n",
    "# \tif i == 2:\n",
    "# \t\tcounttwo+=1 \n",
    "# \tif i == 3:\n",
    "# \t\tcountthree+=1\n",
    "# \tif i == 4:\n",
    "# \t\tcountfour +=1\n",
    "\n",
    "#print(countzero)\n",
    "#print(countone)\n",
    "#print(counttwo)\n",
    "#print(countthree)\n",
    "#print(countfour)\n",
    "\n",
    "\n",
    "# y = 0 --> Business\n",
    "# y = 1 --> Entertainment\n",
    "# y = 2 --> Politics\n",
    "# y = 3 --> Sport\n",
    "# y = 4 --> Tech"
   ]
  },
  {
   "cell_type": "markdown",
   "metadata": {},
   "source": [
    "# Creating LossHistory Class"
   ]
  },
  {
   "cell_type": "code",
   "execution_count": 23,
   "metadata": {},
   "outputs": [],
   "source": [
    "# Got from keras.io\n",
    "import keras\n",
    "class LossHistory(keras.callbacks.Callback):\n",
    "    def on_train_begin(self, logs={}):\n",
    "        self.losses = []\n",
    "        self.train_accuracy = []\n",
    "        self.test_accuracy = []\n",
    "\n",
    "    def on_epoch_end(self, epoch, logs={}):\n",
    "        self.losses.append(logs.get('val_loss'))\n",
    "        self.train_accuracy.append(logs.get('acc'))\n",
    "        self.test_accuracy.append(logs.get('val_acc'))\n",
    "\n",
    "history = LossHistory()"
   ]
  },
  {
   "cell_type": "markdown",
   "metadata": {},
   "source": [
    "# Neural Networks with varying number of hidden layers\n"
   ]
  },
  {
   "cell_type": "code",
   "execution_count": 10,
   "metadata": {},
   "outputs": [],
   "source": [
    "from keras.models import Sequential\n",
    "from keras.layers import Dense\n",
    "from keras import optimizers"
   ]
  },
  {
   "cell_type": "code",
   "execution_count": 11,
   "metadata": {},
   "outputs": [
    {
     "name": "stdout",
     "output_type": "stream",
     "text": [
      "WARNING:tensorflow:From /Users/jackyteoh/anaconda3/lib/python3.7/site-packages/tensorflow/python/framework/op_def_library.py:263: colocate_with (from tensorflow.python.framework.ops) is deprecated and will be removed in a future version.\n",
      "Instructions for updating:\n",
      "Colocations handled automatically by placer.\n",
      "_________________________________________________________________\n",
      "Layer (type)                 Output Shape              Param #   \n",
      "=================================================================\n",
      "dense_1 (Dense)              (None, 3454)              11933570  \n",
      "_________________________________________________________________\n",
      "dense_2 (Dense)              (None, 500)               1727500   \n",
      "_________________________________________________________________\n",
      "dense_3 (Dense)              (None, 500)               250500    \n",
      "_________________________________________________________________\n",
      "dense_4 (Dense)              (None, 5)                 2505      \n",
      "=================================================================\n",
      "Total params: 13,914,075\n",
      "Trainable params: 13,914,075\n",
      "Non-trainable params: 0\n",
      "_________________________________________________________________\n",
      "WARNING:tensorflow:From /Users/jackyteoh/anaconda3/lib/python3.7/site-packages/tensorflow/python/ops/math_ops.py:3066: to_int32 (from tensorflow.python.ops.math_ops) is deprecated and will be removed in a future version.\n",
      "Instructions for updating:\n",
      "Use tf.cast instead.\n",
      "Train on 1561 samples, validate on 664 samples\n",
      "Epoch 1/10\n",
      "1561/1561 [==============================] - 2s 1ms/step - loss: 1.5355 - acc: 0.4760 - val_loss: 0.6864 - val_acc: 0.6943\n",
      "Epoch 2/10\n",
      "1561/1561 [==============================] - 2s 1ms/step - loss: 0.2641 - acc: 0.9321 - val_loss: 0.8603 - val_acc: 0.7364\n",
      "Epoch 3/10\n",
      "1561/1561 [==============================] - 2s 1ms/step - loss: 0.0370 - acc: 0.9898 - val_loss: 1.2820 - val_acc: 0.7455\n",
      "Epoch 4/10\n",
      "1561/1561 [==============================] - 2s 1ms/step - loss: 0.0422 - acc: 0.9942 - val_loss: 1.6245 - val_acc: 0.7530\n",
      "Epoch 5/10\n",
      "1561/1561 [==============================] - 2s 1ms/step - loss: 0.0650 - acc: 0.9936 - val_loss: 2.0704 - val_acc: 0.7244\n",
      "Epoch 6/10\n",
      "1561/1561 [==============================] - 2s 1ms/step - loss: 0.0465 - acc: 0.9942 - val_loss: 2.1293 - val_acc: 0.7515\n",
      "Epoch 7/10\n",
      "1561/1561 [==============================] - 2s 1ms/step - loss: 0.0528 - acc: 0.9955 - val_loss: 2.4347 - val_acc: 0.7395\n",
      "Epoch 8/10\n",
      "1561/1561 [==============================] - 2s 1ms/step - loss: 0.1295 - acc: 0.9898 - val_loss: 2.2130 - val_acc: 0.7395\n",
      "Epoch 9/10\n",
      "1561/1561 [==============================] - 2s 1ms/step - loss: 0.0805 - acc: 0.9936 - val_loss: 2.3445 - val_acc: 0.7319\n",
      "Epoch 10/10\n",
      "1561/1561 [==============================] - 2s 1ms/step - loss: 0.1361 - acc: 0.9885 - val_loss: 2.9254 - val_acc: 0.7184\n"
     ]
    },
    {
     "data": {
      "text/plain": [
       "<keras.callbacks.History at 0xb30990cc0>"
      ]
     },
     "execution_count": 11,
     "metadata": {},
     "output_type": "execute_result"
    }
   ],
   "source": [
    "# epoch how many big loops\n",
    "# batch = how many times each loop\n",
    "\n",
    "keras.backend.clear_session()\n",
    "\n",
    "train_y = np.array(train_y)\n",
    "train_x = np.array(train_x)\n",
    "test_x = np.array(test_x)\n",
    "test_y = np.array(test_y)\n",
    "\n",
    "# First model (smallest hidden layers (2))\n",
    "model_one = Sequential()\n",
    "\n",
    "model_one.add(Dense(units = d, input_shape = train_x[0].shape))\n",
    "\n",
    "model_one.add(Dense(units = 500, activation = 'relu'))\n",
    "model_one.add(Dense(units = 500, activation = 'relu'))\n",
    "\n",
    "model_one.add(Dense(units = 5, activation = 'softmax'))\n",
    "\n",
    "model_one.summary()\n",
    "\n",
    "opt = optimizers.Adam(lr=0.01)\n",
    "model_one.compile(optimizer=opt,\n",
    "              loss='categorical_crossentropy',\n",
    "              metrics=['accuracy'])\n",
    "\n",
    "\n",
    "model_one.fit(train_x, train_y, batch_size = 200, epochs = 10, validation_data = (test_x, test_y), callbacks = [history])"
   ]
  },
  {
   "cell_type": "code",
   "execution_count": 20,
   "metadata": {},
   "outputs": [
    {
     "data": {
      "text/plain": [
       "Text(0, 0.5, 'Accuracy')"
      ]
     },
     "execution_count": 20,
     "metadata": {},
     "output_type": "execute_result"
    },
    {
     "data": {
      "image/png": "[encoded data removed]",
      "text/plain": [
       "<Figure size 432x288 with 1 Axes>"
      ]
     },
     "metadata": {
      "needs_background": "light"
     },
     "output_type": "display_data"
    }
   ],
   "source": [
    "x_range = np.arange(1, 11, 1)\n",
    "plt.plot(x_range, history.train_accuracy)\n",
    "plt.plot(x_range, history.test_accuracy)\n",
    "plt.title('Model 1 (2 Hidden Layers)')\n",
    "plt.legend((\"Training\", \"Testing\"), loc=\"lower right\")\n",
    "plt.xlabel('Epoch')\n",
    "plt.ylabel('Accuracy')"
   ]
  },
  {
   "cell_type": "code",
   "execution_count": 26,
   "metadata": {},
   "outputs": [
    {
     "name": "stdout",
     "output_type": "stream",
     "text": [
      "_________________________________________________________________\n",
      "Layer (type)                 Output Shape              Param #   \n",
      "=================================================================\n",
      "dense_43 (Dense)             (None, 3454)              11933570  \n",
      "_________________________________________________________________\n",
      "dense_44 (Dense)             (None, 500)               1727500   \n",
      "_________________________________________________________________\n",
      "dense_45 (Dense)             (None, 500)               250500    \n",
      "_________________________________________________________________\n",
      "dense_46 (Dense)             (None, 500)               250500    \n",
      "_________________________________________________________________\n",
      "dense_47 (Dense)             (None, 500)               250500    \n",
      "_________________________________________________________________\n",
      "dense_48 (Dense)             (None, 5)                 2505      \n",
      "=================================================================\n",
      "Total params: 14,415,075\n",
      "Trainable params: 14,415,075\n",
      "Non-trainable params: 0\n",
      "_________________________________________________________________\n",
      "Train on 1561 samples, validate on 664 samples\n",
      "Epoch 1/10\n",
      "1561/1561 [==============================] - 3s 2ms/step - loss: 1.9605 - acc: 0.3088 - val_loss: 1.0740 - val_acc: 0.4940\n",
      "Epoch 2/10\n",
      "1561/1561 [==============================] - 2s 1ms/step - loss: 1.0229 - acc: 0.6477 - val_loss: 1.0265 - val_acc: 0.4910\n",
      "Epoch 3/10\n",
      "1561/1561 [==============================] - 2s 1ms/step - loss: 0.6579 - acc: 0.7796 - val_loss: 0.9433 - val_acc: 0.6310\n",
      "Epoch 4/10\n",
      "1561/1561 [==============================] - 2s 1ms/step - loss: 0.4552 - acc: 0.9084 - val_loss: 1.0096 - val_acc: 0.7274\n",
      "Epoch 5/10\n",
      "1561/1561 [==============================] - 2s 1ms/step - loss: 0.1841 - acc: 0.9763 - val_loss: 1.2366 - val_acc: 0.7334\n",
      "Epoch 6/10\n",
      "1561/1561 [==============================] - 2s 1ms/step - loss: 0.1322 - acc: 0.9859 - val_loss: 1.0190 - val_acc: 0.7364\n",
      "Epoch 7/10\n",
      "1561/1561 [==============================] - 2s 1ms/step - loss: 0.2424 - acc: 0.9801 - val_loss: 1.4945 - val_acc: 0.7334\n",
      "Epoch 8/10\n",
      "1561/1561 [==============================] - 2s 1ms/step - loss: 0.3310 - acc: 0.9705 - val_loss: 1.5734 - val_acc: 0.7244\n",
      "Epoch 9/10\n",
      "1561/1561 [==============================] - 2s 1ms/step - loss: 0.3622 - acc: 0.9699 - val_loss: 2.3717 - val_acc: 0.7139\n",
      "Epoch 10/10\n",
      "1561/1561 [==============================] - 2s 1ms/step - loss: 0.5121 - acc: 0.9596 - val_loss: 2.3418 - val_acc: 0.6883\n"
     ]
    },
    {
     "data": {
      "text/plain": [
       "<keras.callbacks.History at 0xb918cfef0>"
      ]
     },
     "execution_count": 26,
     "metadata": {},
     "output_type": "execute_result"
    }
   ],
   "source": [
    "# Second model (Medium hidden layers (4))\n",
    "model_two = Sequential()\n",
    "\n",
    "model_two.add(Dense(units = d, input_shape = train_x[0].shape))\n",
    "\n",
    "model_two.add(Dense(units = 500, activation = 'relu'))\n",
    "model_two.add(Dense(units = 500, activation = 'relu'))\n",
    "model_two.add(Dense(units = 500, activation = 'relu'))\n",
    "model_two.add(Dense(units = 500, activation = 'relu'))\n",
    "\n",
    "model_two.add(Dense(units = 5, activation = 'softmax'))\n",
    "\n",
    "opt = optimizers.Adam(lr=0.01)\n",
    "model_two.compile(optimizer=opt,\n",
    "              loss='categorical_crossentropy',\n",
    "              metrics=['accuracy'])\n",
    "\n",
    "model_two.summary()\n",
    "\n",
    "model_two.fit(train_x, train_y, batch_size = 200, epochs = 10, validation_data = (test_x, test_y), callbacks = [history])"
   ]
  },
  {
   "cell_type": "code",
   "execution_count": 27,
   "metadata": {},
   "outputs": [
    {
     "data": {
      "text/plain": [
       "Text(0, 0.5, 'Accuracy')"
      ]
     },
     "execution_count": 27,
     "metadata": {},
     "output_type": "execute_result"
    },
    {
     "data": {
      "image/png": "[encoded data removed]",
      "text/plain": [
       "<Figure size 432x288 with 1 Axes>"
      ]
     },
     "metadata": {
      "needs_background": "light"
     },
     "output_type": "display_data"
    }
   ],
   "source": [
    "x_range = np.arange(1, 11, 1)\n",
    "plt.plot(x_range, history.train_accuracy)\n",
    "plt.plot(x_range, history.test_accuracy)\n",
    "plt.title('Model 2 (4 Hidden Layers)')\n",
    "plt.legend((\"Training\", \"Testing\"), loc=\"lower right\")\n",
    "plt.xlabel('Epoch')\n",
    "plt.ylabel('Accuracy')"
   ]
  },
  {
   "cell_type": "code",
   "execution_count": 28,
   "metadata": {},
   "outputs": [
    {
     "name": "stdout",
     "output_type": "stream",
     "text": [
      "_________________________________________________________________\n",
      "Layer (type)                 Output Shape              Param #   \n",
      "=================================================================\n",
      "dense_49 (Dense)             (None, 3454)              11933570  \n",
      "_________________________________________________________________\n",
      "dense_50 (Dense)             (None, 500)               1727500   \n",
      "_________________________________________________________________\n",
      "dense_51 (Dense)             (None, 500)               250500    \n",
      "_________________________________________________________________\n",
      "dense_52 (Dense)             (None, 500)               250500    \n",
      "_________________________________________________________________\n",
      "dense_53 (Dense)             (None, 500)               250500    \n",
      "_________________________________________________________________\n",
      "dense_54 (Dense)             (None, 500)               250500    \n",
      "_________________________________________________________________\n",
      "dense_55 (Dense)             (None, 500)               250500    \n",
      "_________________________________________________________________\n",
      "dense_56 (Dense)             (None, 5)                 2505      \n",
      "=================================================================\n",
      "Total params: 14,916,075\n",
      "Trainable params: 14,916,075\n",
      "Non-trainable params: 0\n",
      "_________________________________________________________________\n",
      "Train on 1561 samples, validate on 664 samples\n",
      "Epoch 1/10\n",
      "1561/1561 [==============================] - 4s 2ms/step - loss: 2.8915 - acc: 0.2210 - val_loss: 1.2422 - val_acc: 0.2380\n",
      "Epoch 2/10\n",
      "1561/1561 [==============================] - 2s 1ms/step - loss: 1.6241 - acc: 0.2639 - val_loss: 1.2552 - val_acc: 0.3645\n",
      "Epoch 3/10\n",
      "1561/1561 [==============================] - 2s 1ms/step - loss: 1.3662 - acc: 0.4337 - val_loss: 1.2379 - val_acc: 0.4006\n",
      "Epoch 4/10\n",
      "1561/1561 [==============================] - 2s 1ms/step - loss: 1.3820 - acc: 0.4587 - val_loss: 1.1330 - val_acc: 0.4202\n",
      "Epoch 5/10\n",
      "1561/1561 [==============================] - 2s 1ms/step - loss: 0.9723 - acc: 0.5477 - val_loss: 0.9927 - val_acc: 0.4880\n",
      "Epoch 6/10\n",
      "1561/1561 [==============================] - 2s 1ms/step - loss: 0.6796 - acc: 0.7239 - val_loss: 1.5244 - val_acc: 0.5361\n",
      "Epoch 7/10\n",
      "1561/1561 [==============================] - 2s 1ms/step - loss: 0.5617 - acc: 0.8053 - val_loss: 0.8277 - val_acc: 0.5723\n",
      "Epoch 8/10\n",
      "1561/1561 [==============================] - 2s 1ms/step - loss: 0.3597 - acc: 0.8860 - val_loss: 0.8504 - val_acc: 0.6190\n",
      "Epoch 9/10\n",
      "1561/1561 [==============================] - 2s 1ms/step - loss: 0.1611 - acc: 0.9558 - val_loss: 1.1027 - val_acc: 0.7229\n",
      "Epoch 10/10\n",
      "1561/1561 [==============================] - 2s 1ms/step - loss: 0.0928 - acc: 0.9840 - val_loss: 1.1841 - val_acc: 0.7139\n"
     ]
    },
    {
     "data": {
      "text/plain": [
       "<keras.callbacks.History at 0xb9e61bc50>"
      ]
     },
     "execution_count": 28,
     "metadata": {},
     "output_type": "execute_result"
    }
   ],
   "source": [
    "# Third model (Large hidden layers (6))\n",
    "model_three = Sequential()\n",
    "\n",
    "model_three.add(Dense(units = d, input_shape = train_x[0].shape))\n",
    "\n",
    "model_three.add(Dense(units = 500, activation = 'relu'))\n",
    "model_three.add(Dense(units = 500, activation = 'relu'))\n",
    "model_three.add(Dense(units = 500, activation = 'relu'))\n",
    "model_three.add(Dense(units = 500, activation = 'relu'))\n",
    "model_three.add(Dense(units = 500, activation = 'relu'))\n",
    "model_three.add(Dense(units = 500, activation = 'relu'))\n",
    "\n",
    "model_three.add(Dense(units = 5, activation = 'softmax'))\n",
    "\n",
    "model_three.summary()\n",
    "\n",
    "opt = optimizers.Adam(lr=0.01)\n",
    "model_three.compile(optimizer=opt,\n",
    "              loss='categorical_crossentropy',\n",
    "              metrics=['accuracy'])\n",
    "\n",
    "\n",
    "model_three.fit(train_x, train_y, batch_size = 200, epochs = 10, validation_data = (test_x, test_y), callbacks = [history])\n",
    "\n",
    "#We think this has lower accuracy bc of overfitting"
   ]
  },
  {
   "cell_type": "code",
   "execution_count": 22,
   "metadata": {},
   "outputs": [
    {
     "data": {
      "text/plain": [
       "Text(0, 0.5, 'Accuracy')"
      ]
     },
     "execution_count": 22,
     "metadata": {},
     "output_type": "execute_result"
    },
    {
     "data": {
      "image/png": "[encoded data removed]",
      "text/plain": [
       "<Figure size 432x288 with 1 Axes>"
      ]
     },
     "metadata": {
      "needs_background": "light"
     },
     "output_type": "display_data"
    }
   ],
   "source": [
    "x_range = np.arange(1, 11, 1)\n",
    "plt.plot(x_range, history.train_accuracy)\n",
    "plt.plot(x_range, history.test_accuracy)\n",
    "plt.title('Model 3 (6 Hidden Layers)')\n",
    "plt.legend((\"Training\", \"Testing\"), loc=\"lower right\")\n",
    "plt.xlabel('Epoch')\n",
    "plt.ylabel('Accuracy')"
   ]
  },
  {
   "cell_type": "markdown",
   "metadata": {},
   "source": [
    "# Neural Networks (Second Model) with varying activation functions"
   ]
  },
  {
   "cell_type": "code",
   "execution_count": 14,
   "metadata": {},
   "outputs": [
    {
     "name": "stdout",
     "output_type": "stream",
     "text": [
      "_________________________________________________________________\n",
      "Layer (type)                 Output Shape              Param #   \n",
      "=================================================================\n",
      "dense_19 (Dense)             (None, 3454)              11933570  \n",
      "_________________________________________________________________\n",
      "dense_20 (Dense)             (None, 500)               1727500   \n",
      "_________________________________________________________________\n",
      "dense_21 (Dense)             (None, 500)               250500    \n",
      "_________________________________________________________________\n",
      "dense_22 (Dense)             (None, 500)               250500    \n",
      "_________________________________________________________________\n",
      "dense_23 (Dense)             (None, 500)               250500    \n",
      "_________________________________________________________________\n",
      "dense_24 (Dense)             (None, 5)                 2505      \n",
      "=================================================================\n",
      "Total params: 14,415,075\n",
      "Trainable params: 14,415,075\n",
      "Non-trainable params: 0\n",
      "_________________________________________________________________\n",
      "Train on 1561 samples, validate on 664 samples\n",
      "Epoch 1/10\n",
      "1561/1561 [==============================] - 3s 2ms/step - loss: 5.0522 - acc: 0.2114 - val_loss: 1.3352 - val_acc: 0.1807\n",
      "Epoch 2/10\n",
      "1561/1561 [==============================] - 2s 1ms/step - loss: 4.9402 - acc: 0.1896 - val_loss: 1.2393 - val_acc: 0.1867\n",
      "Epoch 3/10\n",
      "1561/1561 [==============================] - 2s 1ms/step - loss: 4.8629 - acc: 0.2069 - val_loss: 1.1169 - val_acc: 0.2289\n",
      "Epoch 4/10\n",
      "1561/1561 [==============================] - 2s 1ms/step - loss: 4.7947 - acc: 0.1890 - val_loss: 1.1063 - val_acc: 0.1807\n",
      "Epoch 5/10\n",
      "1561/1561 [==============================] - 2s 1ms/step - loss: 4.7740 - acc: 0.2140 - val_loss: 1.0724 - val_acc: 0.2289\n",
      "Epoch 6/10\n",
      "1561/1561 [==============================] - 2s 1ms/step - loss: 4.7681 - acc: 0.2300 - val_loss: 1.0714 - val_acc: 0.1807\n",
      "Epoch 7/10\n",
      "1561/1561 [==============================] - 2s 1ms/step - loss: 4.7699 - acc: 0.1986 - val_loss: 1.0694 - val_acc: 0.2289\n",
      "Epoch 8/10\n",
      "1561/1561 [==============================] - 2s 1ms/step - loss: 4.7739 - acc: 0.2108 - val_loss: 1.0724 - val_acc: 0.2289\n",
      "Epoch 9/10\n",
      "1561/1561 [==============================] - 2s 1ms/step - loss: 4.7848 - acc: 0.2056 - val_loss: 1.0865 - val_acc: 0.1807\n",
      "Epoch 10/10\n",
      "1561/1561 [==============================] - 2s 1ms/step - loss: 4.8015 - acc: 0.1736 - val_loss: 1.1195 - val_acc: 0.2289\n"
     ]
    },
    {
     "data": {
      "text/plain": [
       "<keras.callbacks.History at 0x10a929fd0>"
      ]
     },
     "execution_count": 14,
     "metadata": {},
     "output_type": "execute_result"
    }
   ],
   "source": [
    "# Second model (Medium hidden layers (4))\n",
    "model_two = Sequential()\n",
    "\n",
    "model_two.add(Dense(units = d, input_shape = train_x[0].shape))\n",
    "\n",
    "model_two.add(Dense(units = 500, activation = 'sigmoid'))\n",
    "model_two.add(Dense(units = 500, activation = 'sigmoid'))\n",
    "model_two.add(Dense(units = 500, activation = 'sigmoid'))\n",
    "model_two.add(Dense(units = 500, activation = 'sigmoid'))\n",
    "\n",
    "model_two.add(Dense(units = 5, activation = 'softmax'))\n",
    "\n",
    "opt = optimizers.Adam(lr=0.01)\n",
    "model_two.compile(optimizer=opt,\n",
    "              loss='categorical_crossentropy',\n",
    "              metrics=['accuracy'])\n",
    "\n",
    "model_two.summary()\n",
    "\n",
    "model_two.fit(train_x, train_y, batch_size = 200, epochs = 10, validation_data = (test_x, test_y), callbacks = [history])"
   ]
  },
  {
   "cell_type": "code",
   "execution_count": null,
   "metadata": {},
   "outputs": [],
   "source": [
    "x_range = np.arange(1, 11, 1)\n",
    "plt.plot(x_range, history.train_accuracy)\n",
    "plt.plot(x_range, history.test_accuracy)\n",
    "plt.title('Model (Sigmoid Activation)')\n",
    "plt.legend((\"Training\", \"Testing\"), loc=\"lower right\")\n",
    "plt.xlabel('Epoch')\n",
    "plt.ylabel('Accuracy')"
   ]
  },
  {
   "cell_type": "code",
   "execution_count": 15,
   "metadata": {},
   "outputs": [
    {
     "name": "stdout",
     "output_type": "stream",
     "text": [
      "_________________________________________________________________\n",
      "Layer (type)                 Output Shape              Param #   \n",
      "=================================================================\n",
      "dense_25 (Dense)             (None, 3454)              11933570  \n",
      "_________________________________________________________________\n",
      "dense_26 (Dense)             (None, 500)               1727500   \n",
      "_________________________________________________________________\n",
      "dense_27 (Dense)             (None, 500)               250500    \n",
      "_________________________________________________________________\n",
      "dense_28 (Dense)             (None, 500)               250500    \n",
      "_________________________________________________________________\n",
      "dense_29 (Dense)             (None, 500)               250500    \n",
      "_________________________________________________________________\n",
      "dense_30 (Dense)             (None, 5)                 2505      \n",
      "=================================================================\n",
      "Total params: 14,415,075\n",
      "Trainable params: 14,415,075\n",
      "Non-trainable params: 0\n",
      "_________________________________________________________________\n",
      "Train on 1561 samples, validate on 664 samples\n",
      "Epoch 1/10\n",
      "1561/1561 [==============================] - 3s 2ms/step - loss: 6.7479 - acc: 0.2940 - val_loss: 3.6913 - val_acc: 0.3795\n",
      "Epoch 2/10\n",
      "1561/1561 [==============================] - 2s 1ms/step - loss: 2.0189 - acc: 0.3991 - val_loss: 1.6141 - val_acc: 0.4307\n",
      "Epoch 3/10\n",
      "1561/1561 [==============================] - 2s 1ms/step - loss: 1.2732 - acc: 0.5189 - val_loss: 1.3585 - val_acc: 0.4639\n",
      "Epoch 4/10\n",
      "1561/1561 [==============================] - 2s 1ms/step - loss: 0.8831 - acc: 0.6861 - val_loss: 0.9893 - val_acc: 0.5452\n",
      "Epoch 5/10\n",
      "1561/1561 [==============================] - 2s 1ms/step - loss: 0.5987 - acc: 0.8104 - val_loss: 1.0039 - val_acc: 0.6009\n",
      "Epoch 6/10\n",
      "1561/1561 [==============================] - 2s 1ms/step - loss: 0.3594 - acc: 0.8898 - val_loss: 0.9853 - val_acc: 0.6386\n",
      "Epoch 7/10\n",
      "1561/1561 [==============================] - 2s 1ms/step - loss: 0.2206 - acc: 0.9436 - val_loss: 1.1020 - val_acc: 0.6476\n",
      "Epoch 8/10\n",
      "1561/1561 [==============================] - 2s 1ms/step - loss: 0.1383 - acc: 0.9660 - val_loss: 1.0794 - val_acc: 0.6657\n",
      "Epoch 9/10\n",
      "1561/1561 [==============================] - 2s 1ms/step - loss: 0.0972 - acc: 0.9795 - val_loss: 1.1577 - val_acc: 0.6792\n",
      "Epoch 10/10\n",
      "1561/1561 [==============================] - 2s 1ms/step - loss: 0.0734 - acc: 0.9859 - val_loss: 1.2229 - val_acc: 0.6777\n"
     ]
    },
    {
     "data": {
      "text/plain": [
       "<keras.callbacks.History at 0xb50f7de10>"
      ]
     },
     "execution_count": 15,
     "metadata": {},
     "output_type": "execute_result"
    }
   ],
   "source": [
    "# Second model (Medium hidden layers (4))\n",
    "model_two = Sequential()\n",
    "\n",
    "model_two.add(Dense(units = d, input_shape = train_x[0].shape))\n",
    "\n",
    "model_two.add(Dense(units = 500, activation = 'tanh'))\n",
    "model_two.add(Dense(units = 500, activation = 'tanh'))\n",
    "model_two.add(Dense(units = 500, activation = 'tanh'))\n",
    "model_two.add(Dense(units = 500, activation = 'tanh'))\n",
    "\n",
    "model_two.add(Dense(units = 5, activation = 'softmax'))\n",
    "\n",
    "opt = optimizers.Adam(lr=0.01)\n",
    "model_two.compile(optimizer=opt,\n",
    "              loss='categorical_crossentropy',\n",
    "              metrics=['accuracy'])\n",
    "\n",
    "model_two.summary()\n",
    "\n",
    "model_two.fit(train_x, train_y, batch_size = 200, epochs = 10, validation_data = (test_x, test_y), callbacks = [history])"
   ]
  },
  {
   "cell_type": "code",
   "execution_count": null,
   "metadata": {},
   "outputs": [],
   "source": [
    "x_range = np.arange(1, 11, 1)\n",
    "plt.plot(x_range, history.train_accuracy)\n",
    "plt.plot(x_range, history.test_accuracy)\n",
    "plt.title('Model  (Tanh activation)')\n",
    "plt.legend((\"Training\", \"Testing\"), loc=\"lower right\")\n",
    "plt.xlabel('Epoch')\n",
    "plt.ylabel('Accuracy')"
   ]
  },
  {
   "cell_type": "markdown",
   "metadata": {},
   "source": [
    "# Neural Networks (Second Model) with varying number of hidden nodes"
   ]
  },
  {
   "cell_type": "code",
   "execution_count": 16,
   "metadata": {},
   "outputs": [
    {
     "name": "stdout",
     "output_type": "stream",
     "text": [
      "_________________________________________________________________\n",
      "Layer (type)                 Output Shape              Param #   \n",
      "=================================================================\n",
      "dense_31 (Dense)             (None, 3454)              11933570  \n",
      "_________________________________________________________________\n",
      "dense_32 (Dense)             (None, 1000)              3455000   \n",
      "_________________________________________________________________\n",
      "dense_33 (Dense)             (None, 500)               500500    \n",
      "_________________________________________________________________\n",
      "dense_34 (Dense)             (None, 250)               125250    \n",
      "_________________________________________________________________\n",
      "dense_35 (Dense)             (None, 125)               31375     \n",
      "_________________________________________________________________\n",
      "dense_36 (Dense)             (None, 5)                 630       \n",
      "=================================================================\n",
      "Total params: 16,046,325\n",
      "Trainable params: 16,046,325\n",
      "Non-trainable params: 0\n",
      "_________________________________________________________________\n",
      "Train on 1561 samples, validate on 664 samples\n",
      "Epoch 1/10\n",
      "1561/1561 [==============================] - 3s 2ms/step - loss: 1.8357 - acc: 0.3043 - val_loss: 0.9050 - val_acc: 0.5994\n",
      "Epoch 2/10\n",
      "1561/1561 [==============================] - 2s 2ms/step - loss: 0.6498 - acc: 0.8091 - val_loss: 0.9453 - val_acc: 0.6822\n",
      "Epoch 3/10\n",
      "1561/1561 [==============================] - 2s 1ms/step - loss: 0.2444 - acc: 0.9455 - val_loss: 1.0326 - val_acc: 0.7184\n",
      "Epoch 4/10\n",
      "1561/1561 [==============================] - 2s 2ms/step - loss: 0.0500 - acc: 0.9923 - val_loss: 1.0519 - val_acc: 0.7139\n",
      "Epoch 5/10\n",
      "1561/1561 [==============================] - 2s 1ms/step - loss: 0.0323 - acc: 0.9955 - val_loss: 1.7255 - val_acc: 0.7093\n",
      "Epoch 6/10\n",
      "1561/1561 [==============================] - 2s 1ms/step - loss: 0.0133 - acc: 0.9974 - val_loss: 1.8798 - val_acc: 0.7139\n",
      "Epoch 7/10\n",
      "1561/1561 [==============================] - 2s 1ms/step - loss: 0.0212 - acc: 0.9962 - val_loss: 1.7991 - val_acc: 0.7259\n",
      "Epoch 8/10\n",
      "1561/1561 [==============================] - 2s 1ms/step - loss: 0.0881 - acc: 0.9898 - val_loss: 2.3732 - val_acc: 0.7063\n",
      "Epoch 9/10\n",
      "1561/1561 [==============================] - 2s 1ms/step - loss: 0.0164 - acc: 0.9968 - val_loss: 2.0785 - val_acc: 0.7123\n",
      "Epoch 10/10\n",
      "1561/1561 [==============================] - 2s 2ms/step - loss: 0.0254 - acc: 0.9981 - val_loss: 2.6462 - val_acc: 0.7018\n"
     ]
    },
    {
     "data": {
      "text/plain": [
       "<keras.callbacks.History at 0xb5e453940>"
      ]
     },
     "execution_count": 16,
     "metadata": {},
     "output_type": "execute_result"
    }
   ],
   "source": [
    "# Second model (Medium hidden layers (4))\n",
    "model_two = Sequential()\n",
    "\n",
    "model_two.add(Dense(units = d, input_shape = train_x[0].shape))\n",
    "\n",
    "model_two.add(Dense(units = 1000, activation = 'relu'))\n",
    "model_two.add(Dense(units = 500, activation = 'relu'))\n",
    "model_two.add(Dense(units = 250, activation = 'relu'))\n",
    "model_two.add(Dense(units = 125, activation = 'relu'))\n",
    "\n",
    "model_two.add(Dense(units = 5, activation = 'softmax'))\n",
    "\n",
    "opt = optimizers.Adam(lr=0.01)\n",
    "model_two.compile(optimizer=opt,\n",
    "              loss='categorical_crossentropy',\n",
    "              metrics=['accuracy'])\n",
    "\n",
    "model_two.summary()\n",
    "\n",
    "model_two.fit(train_x, train_y, batch_size = 200, epochs = 10, validation_data = (test_x, test_y), callbacks = [history])"
   ]
  },
  {
   "cell_type": "code",
   "execution_count": null,
   "metadata": {},
   "outputs": [],
   "source": [
    "x_range = np.arange(1, 11, 1)\n",
    "plt.plot(x_range, history.train_accuracy)\n",
    "plt.plot(x_range, history.test_accuracy)\n",
    "plt.title('Model  (4 Hidden Layers, 1000, 500, 250, 125 nodes)')\n",
    "plt.legend((\"Training\", \"Testing\"), loc=\"lower right\")\n",
    "plt.xlabel('Epoch')\n",
    "plt.ylabel('Accuracy')"
   ]
  },
  {
   "cell_type": "code",
   "execution_count": 17,
   "metadata": {},
   "outputs": [
    {
     "name": "stdout",
     "output_type": "stream",
     "text": [
      "_________________________________________________________________\n",
      "Layer (type)                 Output Shape              Param #   \n",
      "=================================================================\n",
      "dense_37 (Dense)             (None, 3454)              11933570  \n",
      "_________________________________________________________________\n",
      "dense_38 (Dense)             (None, 2000)              6910000   \n",
      "_________________________________________________________________\n",
      "dense_39 (Dense)             (None, 1000)              2001000   \n",
      "_________________________________________________________________\n",
      "dense_40 (Dense)             (None, 500)               500500    \n",
      "_________________________________________________________________\n",
      "dense_41 (Dense)             (None, 250)               125250    \n",
      "_________________________________________________________________\n",
      "dense_42 (Dense)             (None, 5)                 1255      \n",
      "=================================================================\n",
      "Total params: 21,471,575\n",
      "Trainable params: 21,471,575\n",
      "Non-trainable params: 0\n",
      "_________________________________________________________________\n",
      "Train on 1561 samples, validate on 664 samples\n",
      "Epoch 1/10\n",
      "1561/1561 [==============================] - 4s 3ms/step - loss: 3.2682 - acc: 0.2159 - val_loss: 1.4458 - val_acc: 0.1807\n",
      "Epoch 2/10\n",
      "1561/1561 [==============================] - 3s 2ms/step - loss: 2.3822 - acc: 0.2486 - val_loss: 1.3475 - val_acc: 0.2560\n",
      "Epoch 3/10\n",
      "1561/1561 [==============================] - 3s 2ms/step - loss: 1.9617 - acc: 0.3639 - val_loss: 1.2087 - val_acc: 0.3464\n",
      "Epoch 4/10\n",
      "1561/1561 [==============================] - 3s 2ms/step - loss: 1.7918 - acc: 0.4414 - val_loss: 1.2429 - val_acc: 0.3870\n",
      "Epoch 5/10\n",
      "1561/1561 [==============================] - 3s 2ms/step - loss: 1.6251 - acc: 0.5554 - val_loss: 1.0571 - val_acc: 0.5557\n",
      "Epoch 6/10\n",
      "1561/1561 [==============================] - 3s 2ms/step - loss: 1.2042 - acc: 0.7572 - val_loss: 1.0370 - val_acc: 0.6401\n",
      "Epoch 7/10\n",
      "1561/1561 [==============================] - 3s 2ms/step - loss: 0.8010 - acc: 0.8764 - val_loss: 1.0035 - val_acc: 0.6822\n",
      "Epoch 8/10\n",
      "1561/1561 [==============================] - 4s 2ms/step - loss: 0.6327 - acc: 0.9238 - val_loss: 0.8484 - val_acc: 0.7184\n",
      "Epoch 9/10\n",
      "1561/1561 [==============================] - 3s 2ms/step - loss: 0.4758 - acc: 0.9449 - val_loss: 1.3019 - val_acc: 0.6265\n",
      "Epoch 10/10\n",
      "1561/1561 [==============================] - 3s 2ms/step - loss: 0.4744 - acc: 0.9398 - val_loss: 1.0379 - val_acc: 0.6717\n"
     ]
    },
    {
     "data": {
      "text/plain": [
       "<keras.callbacks.History at 0xb500f2c50>"
      ]
     },
     "execution_count": 17,
     "metadata": {},
     "output_type": "execute_result"
    }
   ],
   "source": [
    "# Second model (Medium hidden layers (4))\n",
    "model_two = Sequential()\n",
    "\n",
    "model_two.add(Dense(units = d, input_shape = train_x[0].shape))\n",
    "\n",
    "model_two.add(Dense(units = 2000, activation = 'relu'))\n",
    "model_two.add(Dense(units = 1000, activation = 'relu'))\n",
    "model_two.add(Dense(units = 500, activation = 'relu'))\n",
    "model_two.add(Dense(units = 250, activation = 'relu'))\n",
    "\n",
    "model_two.add(Dense(units = 5, activation = 'softmax'))\n",
    "\n",
    "opt = optimizers.Adam(lr=0.01)\n",
    "model_two.compile(optimizer=opt,\n",
    "              loss='categorical_crossentropy',\n",
    "              metrics=['accuracy'])\n",
    "\n",
    "model_two.summary()\n",
    "\n",
    "model_two.fit(train_x, train_y, batch_size = 200, epochs = 10, validation_data = (test_x, test_y), callbacks = [history])"
   ]
  },
  {
   "cell_type": "code",
   "execution_count": null,
   "metadata": {},
   "outputs": [],
   "source": [
    "x_range = np.arange(1, 11, 1)\n",
    "plt.plot(x_range, history.train_accuracy)\n",
    "plt.plot(x_range, history.test_accuracy)\n",
    "plt.title('Model  (4 Hidden Layers, 2000, 1000, 500, 250 nodes)')\n",
    "plt.legend((\"Training\", \"Testing\"), loc=\"lower right\")\n",
    "plt.xlabel('Epoch')\n",
    "plt.ylabel('Accuracy')"
   ]
  },
  {
   "cell_type": "markdown",
   "metadata": {},
   "source": [
    "# Graphing the NN Datas"
   ]
  },
  {
   "cell_type": "code",
   "execution_count": 18,
   "metadata": {},
   "outputs": [],
   "source": [
    "import matplotlib.pyplot as plt"
   ]
  },
  {
   "cell_type": "code",
   "execution_count": 19,
   "metadata": {},
   "outputs": [
    {
     "data": {
      "text/plain": [
       "Text(0, 0.5, 'Accuracy')"
      ]
     },
     "execution_count": 19,
     "metadata": {},
     "output_type": "execute_result"
    },
    {
     "data": {
      "image/png": "[encoded data removed]",
      "text/plain": [
       "<Figure size 432x288 with 1 Axes>"
      ]
     },
     "metadata": {
      "needs_background": "light"
     },
     "output_type": "display_data"
    }
   ],
   "source": [
    "x_range = np.arange(1, 11, 1)\n",
    "plt.plot(x_range, history.train_accuracy)\n",
    "plt.plot(x_range, history.test_accuracy)\n",
    "plt.title('Model 2 (with Batch Normalization)')\n",
    "plt.legend((\"Training\", \"Testing\"), loc=\"best\")\n",
    "plt.xlabel('Epoch')\n",
    "plt.ylabel('Accuracy')"
   ]
  },
  {
   "cell_type": "code",
   "execution_count": null,
   "metadata": {},
   "outputs": [],
   "source": []
  }
 ],
 "metadata": {
  "kernelspec": {
   "display_name": "Python 3",
   "language": "python",
   "name": "python3"
  },
  "language_info": {
   "codemirror_mode": {
    "name": "ipython",
    "version": 3
   },
   "file_extension": ".py",
   "mimetype": "text/x-python",
   "name": "python",
   "nbconvert_exporter": "python",
   "pygments_lexer": "ipython3",
   "version": "3.7.1"
  }
 },
 "nbformat": 4,
 "nbformat_minor": 2
}
